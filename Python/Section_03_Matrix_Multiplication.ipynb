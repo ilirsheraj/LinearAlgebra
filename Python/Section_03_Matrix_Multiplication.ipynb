{
 "cells": [
  {
   "cell_type": "markdown",
   "id": "5be8cf19",
   "metadata": {},
   "source": [
    "# Matrix Multiplication"
   ]
  },
  {
   "cell_type": "markdown",
   "id": "1b8679a0",
   "metadata": {},
   "source": [
    "## Standard Matrix Multiplication"
   ]
  },
  {
   "cell_type": "code",
   "execution_count": 1,
   "id": "ef20bc82",
   "metadata": {},
   "outputs": [],
   "source": [
    "import numpy as np\n",
    "import matplotlib.pyplot as plt"
   ]
  },
  {
   "cell_type": "code",
   "execution_count": 2,
   "id": "ba2a20b2",
   "metadata": {},
   "outputs": [
    {
     "name": "stdout",
     "output_type": "stream",
     "text": [
      "[[-10.   5.   3.]\n",
      " [ -0.   4.  -4.]\n",
      " [  7.   9.  -2.]\n",
      " [  2.  -1.  -3.]]\n",
      "\n",
      "[[  5.  10.   3.  -1.   5.   5.]\n",
      " [ -2.   3.  11.   2. -10.  -2.]\n",
      " [ -4.  -4.   3.  -2.   3.  -2.]]\n",
      "\n",
      "[[-4. -7.  4. -8. -8.  1.]\n",
      " [11.  0. -2. -3.  4.  1.]\n",
      " [-0.  1.  2.  8.  3.  3.]\n",
      " [-2. -3. -4.  1. -3.  2.]]\n"
     ]
    }
   ],
   "source": [
    "# Rules for Multiplication Validity\n",
    "m = 4\n",
    "n = 3\n",
    "k = 6\n",
    "\n",
    "# make some matrices\n",
    "A = np.round(5* np.random.randn(m,n))\n",
    "B = np.round(5* np.random.randn(n,k))\n",
    "C = np.round(5* np.random.randn(m,k))\n",
    "print(A)\n",
    "print()\n",
    "print(B)\n",
    "print()\n",
    "print(C)"
   ]
  },
  {
   "cell_type": "code",
   "execution_count": 3,
   "id": "e88b8b2d",
   "metadata": {},
   "outputs": [
    {
     "data": {
      "text/plain": [
       "array([[-72., -97.,  34.,  14., -91., -66.],\n",
       "       [  8.,  28.,  32.,  16., -52.,   0.],\n",
       "       [ 25., 105., 114.,  15., -61.,  21.],\n",
       "       [ 24.,  29., -14.,   2.,  11.,  18.]])"
      ]
     },
     "execution_count": 3,
     "metadata": {},
     "output_type": "execute_result"
    }
   ],
   "source": [
    "np.matmul(A,B)"
   ]
  },
  {
   "cell_type": "code",
   "execution_count": 4,
   "id": "e9d8b869",
   "metadata": {},
   "outputs": [
    {
     "data": {
      "text/plain": [
       "array([[ 36.,  71., -34., 138.,  95.,  15.],\n",
       "       [ 26., -23.,  34.,  19.,   6.,  34.],\n",
       "       [-50., -14.,  28., -31., -37., -13.]])"
      ]
     },
     "execution_count": 4,
     "metadata": {},
     "output_type": "execute_result"
    }
   ],
   "source": [
    "# np.matmul(A,A) NOT POSSIBLE\n",
    "np.matmul(A.T, C)"
   ]
  },
  {
   "cell_type": "code",
   "execution_count": 5,
   "id": "2714616f",
   "metadata": {},
   "outputs": [
    {
     "data": {
      "text/plain": [
       "array([[185.,  -9., -44.],\n",
       "       [ -9., 242.,  -1.],\n",
       "       [-44.,  -1.,  58.]])"
      ]
     },
     "execution_count": 5,
     "metadata": {},
     "output_type": "execute_result"
    }
   ],
   "source": [
    "np.matmul(B, B.T)"
   ]
  },
  {
   "cell_type": "code",
   "execution_count": 6,
   "id": "143f60d0",
   "metadata": {},
   "outputs": [
    {
     "data": {
      "text/plain": [
       "array([[ 45.,  60., -19.,  -1.,  33.,  37.],\n",
       "       [ 60., 125.,  51.,   4.,   8.,  52.],\n",
       "       [-19.,  51., 139.,  13., -86., -13.],\n",
       "       [ -1.,   4.,  13.,   9., -31.,  -5.],\n",
       "       [ 33.,   8., -86., -31., 134.,  39.],\n",
       "       [ 37.,  52., -13.,  -5.,  39.,  33.]])"
      ]
     },
     "execution_count": 6,
     "metadata": {},
     "output_type": "execute_result"
    }
   ],
   "source": [
    "np.matmul(np.matrix.transpose(B),B)"
   ]
  },
  {
   "cell_type": "code",
   "execution_count": 7,
   "id": "dde621d2",
   "metadata": {},
   "outputs": [
    {
     "data": {
      "text/plain": [
       "array([[-105.,   93.,   46.],\n",
       "       [  77.,  -92.,  -34.],\n",
       "       [  38.,    5.,  -11.],\n",
       "       [ -58.,  -21.,   -7.]])"
      ]
     },
     "execution_count": 7,
     "metadata": {},
     "output_type": "execute_result"
    }
   ],
   "source": [
    "# np.matmul(B,C) NOT POSSIBLE\n",
    "# np.matmul(C,B) NOT POSSIBLE\n",
    "np.matmul(C, B.T)"
   ]
  },
  {
   "cell_type": "markdown",
   "id": "893a82c2",
   "metadata": {},
   "source": [
    "## Code Challenge: Layered Multiplication"
   ]
  },
  {
   "cell_type": "code",
   "execution_count": 8,
   "id": "8b539b4a",
   "metadata": {},
   "outputs": [
    {
     "name": "stdout",
     "output_type": "stream",
     "text": [
      "[[  6.  -1.  16. -20.]\n",
      " [  5. -42. -22.  -9.]\n",
      " [-34. -11.  10.  -6.]\n",
      " [-19.  21.  13. -20.]]\n"
     ]
    }
   ],
   "source": [
    "# Generate two matrices\n",
    "m = 4\n",
    "n = 6\n",
    "A = np.round(3* np.random.randn(m,n))\n",
    "B = np.round(3* np.random.randn(n,m))\n",
    "\n",
    "# Store their product result\n",
    "res1 = np.matmul(A,B)\n",
    "print(res1)"
   ]
  },
  {
   "cell_type": "code",
   "execution_count": 9,
   "id": "153ee821",
   "metadata": {},
   "outputs": [
    {
     "name": "stdout",
     "output_type": "stream",
     "text": [
      "[[  6.  -1.  16. -20.]\n",
      " [  5. -42. -22.  -9.]\n",
      " [-34. -11.  10.  -6.]\n",
      " [-19.  21.  13. -20.]]\n"
     ]
    }
   ],
   "source": [
    "# Use a for loop for layered multiplication\n",
    "res2 = np.zeros((m,m))\n",
    "for i in range(n):\n",
    "    res2 += np.outer(A[:, i], B[i, :])\n",
    "print(res2)"
   ]
  },
  {
   "cell_type": "code",
   "execution_count": 10,
   "id": "202fdb6f",
   "metadata": {},
   "outputs": [
    {
     "data": {
      "text/plain": [
       "array([[ True,  True,  True,  True],\n",
       "       [ True,  True,  True,  True],\n",
       "       [ True,  True,  True,  True],\n",
       "       [ True,  True,  True,  True]])"
      ]
     },
     "execution_count": 10,
     "metadata": {},
     "output_type": "execute_result"
    }
   ],
   "source": [
    "res1 == res2"
   ]
  },
  {
   "cell_type": "code",
   "execution_count": 11,
   "id": "7dcd8a05",
   "metadata": {},
   "outputs": [
    {
     "data": {
      "text/plain": [
       "array([[  6.,  -1.,  16., -20.],\n",
       "       [  5., -42., -22.,  -9.],\n",
       "       [-34., -11.,  10.,  -6.],\n",
       "       [-19.,  21.,  13., -20.]])"
      ]
     },
     "execution_count": 11,
     "metadata": {},
     "output_type": "execute_result"
    }
   ],
   "source": [
    "# Another way matrices are multiplied\n",
    "A@B"
   ]
  },
  {
   "cell_type": "markdown",
   "id": "d03c1fdf",
   "metadata": {},
   "source": [
    "## Order of Operations "
   ]
  },
  {
   "cell_type": "code",
   "execution_count": 12,
   "id": "35ca2cbe",
   "metadata": {},
   "outputs": [
    {
     "name": "stdout",
     "output_type": "stream",
     "text": [
      "[[ 4266.  2327. -4465. -6859.  -207.  1176.]\n",
      " [ 2179.  -474.  -621.  1458.   453.  -123.]\n",
      " [ 5707. -3556.  1751. 12055.  4983. -2119.]\n",
      " [ 6021.   -85. -3529.  1617.  -555.  -630.]\n",
      " [-9398. -2212.  7672.  4741.   308.  -255.]\n",
      " [-1810.  -171.  -944.  -312. -5972.   254.]]\n"
     ]
    }
   ],
   "source": [
    "# Create 4 \"LIVE\" matrices\n",
    "n = 6\n",
    "L = np.round(4* np.random.randn(n,n))\n",
    "I = np.round(4* np.random.randn(n,n))\n",
    "V = np.round(4* np.random.randn(n,n))\n",
    "E = np.round(4* np.random.randn(n,n))\n",
    "\n",
    "# Get their forward result\n",
    "res1 = np.matrix.transpose(L @ I @ V @ E)\n",
    "print(res1)"
   ]
  },
  {
   "cell_type": "code",
   "execution_count": 13,
   "id": "df7d0569",
   "metadata": {},
   "outputs": [
    {
     "name": "stdout",
     "output_type": "stream",
     "text": [
      "[[ 4266.  2327. -4465. -6859.  -207.  1176.]\n",
      " [ 2179.  -474.  -621.  1458.   453.  -123.]\n",
      " [ 5707. -3556.  1751. 12055.  4983. -2119.]\n",
      " [ 6021.   -85. -3529.  1617.  -555.  -630.]\n",
      " [-9398. -2212.  7672.  4741.   308.  -255.]\n",
      " [-1810.  -171.  -944.  -312. -5972.   254.]]\n"
     ]
    }
   ],
   "source": [
    "# Get the results of flipped multiplication\n",
    "res2 = E.T @ V.T @ I.T @ L.T\n",
    "print(res2)"
   ]
  },
  {
   "cell_type": "code",
   "execution_count": 14,
   "id": "bee470d8",
   "metadata": {},
   "outputs": [
    {
     "data": {
      "text/plain": [
       "array([[ True,  True,  True,  True,  True,  True],\n",
       "       [ True,  True,  True,  True,  True,  True],\n",
       "       [ True,  True,  True,  True,  True,  True],\n",
       "       [ True,  True,  True,  True,  True,  True],\n",
       "       [ True,  True,  True,  True,  True,  True],\n",
       "       [ True,  True,  True,  True,  True,  True]])"
      ]
     },
     "execution_count": 14,
     "metadata": {},
     "output_type": "execute_result"
    }
   ],
   "source": [
    "res1 == res2"
   ]
  },
  {
   "cell_type": "markdown",
   "id": "4431fbcf",
   "metadata": {},
   "source": [
    "## Vector-Matrix Multiplication"
   ]
  },
  {
   "cell_type": "code",
   "execution_count": 15,
   "id": "6d3e5e41",
   "metadata": {},
   "outputs": [
    {
     "name": "stdout",
     "output_type": "stream",
     "text": [
      "[[ 8  5 -4 -2]\n",
      " [-8 10 -3 -7]\n",
      " [ 3 -1  3  9]\n",
      " [ 3  5 -3  1]]\n"
     ]
    }
   ],
   "source": [
    "# define the number of elements\n",
    "m = 4\n",
    "\n",
    "# create a matrix and its symmetric version\n",
    "N = np.random.randint(-10, 11, (m,m))\n",
    "print(N)"
   ]
  },
  {
   "cell_type": "code",
   "execution_count": 16,
   "id": "3391653c",
   "metadata": {},
   "outputs": [
    {
     "name": "stdout",
     "output_type": "stream",
     "text": [
      "[[ 4. -2. -1. -0.]\n",
      " [-2.  6.  0. -2.]\n",
      " [-1.  0.  1. -2.]\n",
      " [-0. -2. -2.  0.]]\n"
     ]
    }
   ],
   "source": [
    "S = np.round(N.T*N/m**2)\n",
    "print(S)"
   ]
  },
  {
   "cell_type": "code",
   "execution_count": 17,
   "id": "02937d89",
   "metadata": {},
   "outputs": [],
   "source": [
    "# define a vector\n",
    "w = np.array([-1, 0, 1, 2])"
   ]
  },
  {
   "cell_type": "code",
   "execution_count": 18,
   "id": "9f6d0fd1",
   "metadata": {},
   "outputs": [
    {
     "name": "stdout",
     "output_type": "stream",
     "text": [
      "[-5. -2. -2. -2.]\n",
      "[-5. -2. -2. -2.]\n",
      "[-5. -2. -2. -2.]\n",
      "[-5. -2. -2. -2.]\n",
      "[-5. -2. -2. -2.]\n"
     ]
    }
   ],
   "source": [
    "# With symmetric matrix\n",
    "print(S @ w)\n",
    "print(S.T @ w)\n",
    "print(w @ S)\n",
    "print(w.T @ S)\n",
    "print(w.T @ S.T)"
   ]
  },
  {
   "cell_type": "code",
   "execution_count": 19,
   "id": "8da89a32",
   "metadata": {},
   "outputs": [
    {
     "name": "stdout",
     "output_type": "stream",
     "text": [
      "[-16  -9  18  -4]\n",
      "[ 1  4  1 13]\n",
      "[ 1  4  1 13]\n",
      "[ 1  4  1 13]\n",
      "[-16  -9  18  -4]\n"
     ]
    }
   ],
   "source": [
    "# With non-Symmetric matrix\n",
    "print(N @ w)\n",
    "print(N.T @ w)\n",
    "print(w @ N)\n",
    "print(w.T @ N)\n",
    "print(w.T @ N.T)"
   ]
  },
  {
   "cell_type": "markdown",
   "id": "0ca404b6",
   "metadata": {},
   "source": [
    "## 2D Transformation Matrices"
   ]
  },
  {
   "cell_type": "code",
   "execution_count": 20,
   "id": "13e39752",
   "metadata": {},
   "outputs": [
    {
     "name": "stdout",
     "output_type": "stream",
     "text": [
      "[ 3 -2]\n",
      "\n",
      "[[ 1 -1]\n",
      " [ 2  1]]\n"
     ]
    }
   ],
   "source": [
    "# Define a 2D input vector\n",
    "v = np.array([3, -2])\n",
    "\n",
    "# define a 2x2 matrix\n",
    "A = np.array([[1, -1], [2, 1]])\n",
    "print(v)\n",
    "print()\n",
    "print(A)"
   ]
  },
  {
   "cell_type": "code",
   "execution_count": 21,
   "id": "25bf414d",
   "metadata": {},
   "outputs": [
    {
     "name": "stdout",
     "output_type": "stream",
     "text": [
      "[5 4]\n"
     ]
    }
   ],
   "source": [
    "# print their multiplication\n",
    "w = A @ np.matrix.transpose(v)\n",
    "print(w)"
   ]
  },
  {
   "cell_type": "code",
   "execution_count": 22,
   "id": "0be893c3",
   "metadata": {},
   "outputs": [
    {
     "data": {
      "image/png": "[encoded data removed]",
      "text/plain": [
       "<Figure size 432x288 with 1 Axes>"
      ]
     },
     "metadata": {
      "needs_background": "light"
     },
     "output_type": "display_data"
    }
   ],
   "source": [
    "plt.plot([0, v[0]], [0, v[1]], label = \"v\")\n",
    "plt.plot([0, w[0]], [0, w[1]], label = \"Av\")\n",
    "plt.grid()\n",
    "plt.axis((-6, 6, -6, 6))\n",
    "plt.legend()\n",
    "plt.title(\"Rotation & Streching\")\n",
    "plt.show()"
   ]
  },
  {
   "cell_type": "code",
   "execution_count": 23,
   "id": "6933d198",
   "metadata": {},
   "outputs": [
    {
     "name": "stdout",
     "output_type": "stream",
     "text": [
      "[ 3.23538697 -1.59131115]\n"
     ]
    }
   ],
   "source": [
    "# Pure rotation\n",
    "import math\n",
    "v = np.array([3, -2])\n",
    "\n",
    "# define the angle\n",
    "theta = np.pi/24\n",
    "A = np.array([[math.cos(theta), -math.sin(theta)],\n",
    "             [math.sin(theta), math.cos(theta)]])\n",
    "\n",
    "# Output vector\n",
    "w = A @ np.matrix.transpose(v)\n",
    "print(w)"
   ]
  },
  {
   "cell_type": "code",
   "execution_count": 24,
   "id": "67c054df",
   "metadata": {},
   "outputs": [
    {
     "data": {
      "image/png": "[encoded data removed]",
      "text/plain": [
       "<Figure size 432x288 with 1 Axes>"
      ]
     },
     "metadata": {
      "needs_background": "light"
     },
     "output_type": "display_data"
    }
   ],
   "source": [
    "# Plot the whole thing\n",
    "plt.plot([0, v[0]], [0, v[1]], label = \"v\")\n",
    "plt.plot([0, w[0]], [0, w[1]], label = \"Av\")\n",
    "plt.grid()\n",
    "plt.axis((-4, 4, -4, 4))\n",
    "plt.legend()\n",
    "plt.title(\"Pure Rotation\")\n",
    "plt.show()"
   ]
  },
  {
   "cell_type": "code",
   "execution_count": 25,
   "id": "8ca2b2ab",
   "metadata": {},
   "outputs": [
    {
     "data": {
      "text/plain": [
       "3.605551275463989"
      ]
     },
     "execution_count": 25,
     "metadata": {},
     "output_type": "execute_result"
    }
   ],
   "source": [
    "np.linalg.norm(w)"
   ]
  },
  {
   "cell_type": "code",
   "execution_count": 26,
   "id": "aa30effc",
   "metadata": {},
   "outputs": [
    {
     "data": {
      "text/plain": [
       "3.605551275463989"
      ]
     },
     "execution_count": 26,
     "metadata": {},
     "output_type": "execute_result"
    }
   ],
   "source": [
    "np.linalg.norm(v)"
   ]
  },
  {
   "cell_type": "code",
   "execution_count": 27,
   "id": "8f33793d",
   "metadata": {},
   "outputs": [
    {
     "name": "stdout",
     "output_type": "stream",
     "text": [
      "[ 6.20972155 -1.59131115]\n"
     ]
    }
   ],
   "source": [
    "# Rotation and Streching\n",
    "v = np.array([3, -2])\n",
    "\n",
    "# define the angle\n",
    "theta = np.pi/24\n",
    "A = np.array([[2*math.cos(theta), -math.sin(theta)],\n",
    "             [math.sin(theta), math.cos(theta)]])\n",
    "\n",
    "# Output vector\n",
    "w = A @ np.matrix.transpose(v)\n",
    "print(w)"
   ]
  },
  {
   "cell_type": "code",
   "execution_count": 28,
   "id": "da419af7",
   "metadata": {},
   "outputs": [
    {
     "data": {
      "image/png": "[encoded data removed]",
      "text/plain": [
       "<Figure size 432x288 with 1 Axes>"
      ]
     },
     "metadata": {
      "needs_background": "light"
     },
     "output_type": "display_data"
    }
   ],
   "source": [
    "# Plot the whole thing\n",
    "plt.plot([0, v[0]], [0, v[1]], label = \"v\")\n",
    "plt.plot([0, w[0]], [0, w[1]], label = \"Av\")\n",
    "plt.grid()\n",
    "plt.axis((-1, 7, -3, 1))\n",
    "plt.legend()\n",
    "plt.title(\"Rotation & Streching\")\n",
    "plt.show()"
   ]
  },
  {
   "cell_type": "code",
   "execution_count": 29,
   "id": "fa275a1b",
   "metadata": {},
   "outputs": [
    {
     "name": "stdout",
     "output_type": "stream",
     "text": [
      "[ 3.23538697 -1.59131115  2.7132822 ]\n"
     ]
    }
   ],
   "source": [
    "# Rotation in 3D\n",
    "v = np.array([3, -2])\n",
    "\n",
    "# define the angle\n",
    "theta = np.pi/24\n",
    "A = np.array([[math.cos(theta), -math.sin(theta)],\n",
    "             [math.sin(theta), math.cos(theta)],\n",
    "             [math.cos(theta), math.sin(theta)]])\n",
    "\n",
    "# Output vector\n",
    "w = A @ np.matrix.transpose(v)\n",
    "print(w)"
   ]
  },
  {
   "cell_type": "code",
   "execution_count": 30,
   "id": "1a28ad84",
   "metadata": {},
   "outputs": [
    {
     "data": {
      "image/png": "[encoded data removed]",
      "text/plain": [
       "<Figure size 432x288 with 1 Axes>"
      ]
     },
     "metadata": {
      "needs_background": "light"
     },
     "output_type": "display_data"
    }
   ],
   "source": [
    "fig = plt.figure()\n",
    "ax = plt.axes(projection = \"3d\")\n",
    "ax.plot([0, v[0]], [0, v[1]], [0, 0], \"b\")\n",
    "ax.plot([0, w[0]], [0, w[1]], [0, w[2]], \"r\")\n",
    "plt.axis((-1, 4, -2, 4))\n",
    "plt.title(\"Pure Rotation\")\n",
    "plt.show()"
   ]
  },
  {
   "cell_type": "markdown",
   "id": "2d003903",
   "metadata": {},
   "source": [
    "## Code Challenge"
   ]
  },
  {
   "cell_type": "code",
   "execution_count": 31,
   "id": "91ae2110",
   "metadata": {},
   "outputs": [
    {
     "data": {
      "image/png": "[encoded data removed]",
      "text/plain": [
       "<Figure size 432x288 with 1 Axes>"
      ]
     },
     "metadata": {
      "needs_background": "light"
     },
     "output_type": "display_data"
    }
   ],
   "source": [
    "# Explore the relationship between the magnitude of Av and angle theta\n",
    "thetas = np.linspace(0, 2*np.pi, 100)\n",
    "vecmags = np.zeros((len(thetas),2))\n",
    "\n",
    "# create the for loop\n",
    "for i in range(len(thetas)):\n",
    "    theta = thetas[i]\n",
    "    A1 = np.array([[2*math.cos(theta), -math.sin(theta)],\n",
    "                   [math.sin(theta), math.cos(theta)]])\n",
    "    A2 = np.array([[math.cos(theta), -math.sin(theta)],\n",
    "                   [math.sin(theta), math.cos(theta)]])\n",
    "    \n",
    "    # vector magnitudes\n",
    "    vecmags[i,0] = np.linalg.norm(A1 @ v.T)\n",
    "    vecmags[i,1] = np.linalg.norm(A2 @ v.T)\n",
    "\n",
    "# Plot the whole thing\n",
    "plt.plot(thetas, vecmags, \"o-\")\n",
    "plt.xlabel(\"Rotation angle in Radians\")\n",
    "plt.ylabel(\"Av Magnitude\")\n",
    "plt.legend([\"Impure Rotation\", \"Pure Rotation\"])\n",
    "plt.show()"
   ]
  },
  {
   "cell_type": "markdown",
   "id": "fbfd42e3",
   "metadata": {},
   "source": [
    "## Code Challenge 2"
   ]
  },
  {
   "cell_type": "code",
   "execution_count": 32,
   "id": "1c9ed068",
   "metadata": {},
   "outputs": [
    {
     "name": "stdout",
     "output_type": "stream",
     "text": [
      "(100, 2)\n"
     ]
    }
   ],
   "source": [
    "# generate xy coordinates for a circle and plot it\n",
    "x = np.linspace(-np.pi, np.pi, 100)\n",
    "xy = np.array([np.cos(x), np.sin(x)]).T\n",
    "print(np.shape(xy))"
   ]
  },
  {
   "cell_type": "code",
   "execution_count": 33,
   "id": "aeb5ca06",
   "metadata": {},
   "outputs": [
    {
     "name": "stdout",
     "output_type": "stream",
     "text": [
      "(100, 2)\n"
     ]
    }
   ],
   "source": [
    "# Plot the circle\n",
    "xy = np.vstack((np.cos(x), np.sin(x))).T\n",
    "print(np.shape(xy))"
   ]
  },
  {
   "cell_type": "code",
   "execution_count": 34,
   "id": "67257f50",
   "metadata": {},
   "outputs": [
    {
     "data": {
      "image/png": "[encoded data removed]",
      "text/plain": [
       "<Figure size 432x288 with 1 Axes>"
      ]
     },
     "metadata": {
      "needs_background": "light"
     },
     "output_type": "display_data"
    }
   ],
   "source": [
    "# Plot the Circle\n",
    "plt.plot(xy[:,0], xy[:,1], \"o\")\n",
    "plt.axis(\"square\")\n",
    "plt.show()"
   ]
  },
  {
   "cell_type": "code",
   "execution_count": 35,
   "id": "5c90d0de",
   "metadata": {},
   "outputs": [
    {
     "data": {
      "image/png": "[encoded data removed]",
      "text/plain": [
       "<Figure size 432x288 with 1 Axes>"
      ]
     },
     "metadata": {
      "needs_background": "light"
     },
     "output_type": "display_data"
    }
   ],
   "source": [
    "# Create a 2x2 matrix\n",
    "T = np.array([[1,2], [2,1]])\n",
    "\n",
    "# multiply the matrix by coordinates\n",
    "newxy  = xy @ T.T\n",
    "\n",
    "# Plot them\n",
    "plt.plot(newxy[:, 0], newxy[:, 1], \"o\")\n",
    "plt.axis(\"square\")\n",
    "plt.show()"
   ]
  },
  {
   "cell_type": "code",
   "execution_count": 36,
   "id": "4f3155a9",
   "metadata": {},
   "outputs": [
    {
     "data": {
      "image/png": "[encoded data removed]",
      "text/plain": [
       "<Figure size 432x288 with 1 Axes>"
      ]
     },
     "metadata": {
      "needs_background": "light"
     },
     "output_type": "display_data"
    }
   ],
   "source": [
    "# Join them together\n",
    "plt.plot(xy[:,0], xy[:,1], \"o\", \"b\")\n",
    "plt.plot(newxy[:, 0], newxy[:, 1], \"o\", \"r\")\n",
    "plt.axis(\"square\")\n",
    "plt.show()"
   ]
  },
  {
   "cell_type": "code",
   "execution_count": 37,
   "id": "8a90e8c8",
   "metadata": {},
   "outputs": [
    {
     "data": {
      "image/png": "[encoded data removed]",
      "text/plain": [
       "<Figure size 432x288 with 1 Axes>"
      ]
     },
     "metadata": {
      "needs_background": "light"
     },
     "output_type": "display_data"
    }
   ],
   "source": [
    "# To change the values of T automatically\n",
    "T = np.array([[1,1.5], [1.5,1]])\n",
    "x = np.linspace(-np.pi, np.pi, 100)\n",
    "xy = np.array([np.cos(x), np.sin(x)]).T\n",
    "newxy  = xy @ T.T\n",
    "plt.plot(xy[:,0], xy[:,1], \"o\", \"b\")\n",
    "plt.plot(newxy[:, 0], newxy[:, 1], \"o\", \"r\")\n",
    "plt.axis(\"square\")\n",
    "plt.show()"
   ]
  },
  {
   "cell_type": "markdown",
   "id": "8bf7c43c",
   "metadata": {},
   "source": [
    "## Additive and Multiplicative Identity Matrices "
   ]
  },
  {
   "cell_type": "code",
   "execution_count": 38,
   "id": "9bae480c",
   "metadata": {},
   "outputs": [
    {
     "name": "stdout",
     "output_type": "stream",
     "text": [
      "[[  1.  -4.  -2.   6.]\n",
      " [  4.   1. -10.  -3.]\n",
      " [ -3.   1.  -2.  -3.]\n",
      " [  3.  -5.   5.   2.]]\n",
      "\n",
      "[[1. 0. 0. 0.]\n",
      " [0. 1. 0. 0.]\n",
      " [0. 0. 1. 0.]\n",
      " [0. 0. 0. 1.]]\n",
      "\n",
      "[[0. 0. 0. 0.]\n",
      " [0. 0. 0. 0.]\n",
      " [0. 0. 0. 0.]\n",
      " [0. 0. 0. 0.]]\n"
     ]
    }
   ],
   "source": [
    "n = 4\n",
    "A = np.round(4* np.random.randn(n,n))\n",
    "I = np.eye(n)\n",
    "Z = np.zeros((n, n))\n",
    "print(A)\n",
    "print()\n",
    "print(I)\n",
    "print()\n",
    "print(Z)"
   ]
  },
  {
   "cell_type": "code",
   "execution_count": 39,
   "id": "786fbd7a",
   "metadata": {},
   "outputs": [
    {
     "name": "stdout",
     "output_type": "stream",
     "text": [
      "True\n",
      "True\n",
      "False\n",
      "True\n",
      "False\n",
      "True\n",
      "False\n"
     ]
    }
   ],
   "source": [
    "print(np.array_equal(A@I, A))\n",
    "print(np.array_equal(A@I, I@A))\n",
    "print(np.array_equal(A@Z, A))\n",
    "print(np.array_equal(A@Z, Z@A))\n",
    "print(np.array_equal(A+I, A))\n",
    "print(np.array_equal(A+Z, A))\n",
    "print(np.array_equal(A+I, A+Z))"
   ]
  },
  {
   "cell_type": "markdown",
   "id": "0767bcc5",
   "metadata": {},
   "source": [
    "## Additive and Multiplicative Symmetric Matrices"
   ]
  },
  {
   "cell_type": "code",
   "execution_count": 40,
   "id": "a3a51ddc",
   "metadata": {},
   "outputs": [
    {
     "name": "stdout",
     "output_type": "stream",
     "text": [
      "[[ 4. -6. -4.  9.]\n",
      " [-6.  0. -5.  0.]\n",
      " [-4. -5. -4. -7.]\n",
      " [ 9.  0. -7.  8.]]\n"
     ]
    }
   ],
   "source": [
    "# Additive: Size matters\n",
    "m = 4\n",
    "n = 4\n",
    "A = np.round(5*np.random.randn(m, n))\n",
    "S = (A + A.T)\n",
    "print(S)"
   ]
  },
  {
   "cell_type": "code",
   "execution_count": 41,
   "id": "c1b75739",
   "metadata": {},
   "outputs": [
    {
     "name": "stdout",
     "output_type": "stream",
     "text": [
      "[[0. 0. 0. 0.]\n",
      " [0. 0. 0. 0.]\n",
      " [0. 0. 0. 0.]\n",
      " [0. 0. 0. 0.]]\n"
     ]
    }
   ],
   "source": [
    "print(S - S.T)"
   ]
  },
  {
   "cell_type": "code",
   "execution_count": 42,
   "id": "4c5fdf80",
   "metadata": {},
   "outputs": [
    {
     "name": "stdout",
     "output_type": "stream",
     "text": [
      "[[ 14. -17.   2.  -2.  -8.]\n",
      " [-17.  52. -12.   3.  14.]\n",
      " [  2. -12.   6.  -5.   1.]\n",
      " [ -2.   3.  -5.  12. -12.]\n",
      " [ -8.  14.   1. -12.  23.]]\n",
      "\n",
      "[[ 11.  -7.   1. -13.   3.]\n",
      " [ -7.  19. -10.  -2.   0.]\n",
      " [  1. -10.  30.  24.  -7.]\n",
      " [-13.  -2.  24.  44.  -8.]\n",
      " [  3.   0.  -7.  -8.   3.]]\n"
     ]
    }
   ],
   "source": [
    "# Multiplicative: Square\n",
    "m = 5\n",
    "n = 5\n",
    "A = np.round(2*np.random.randn(m, n))\n",
    "S1 = A.T @ A\n",
    "S2 = A @ A.T\n",
    "print(S1)\n",
    "print()\n",
    "print(S2)"
   ]
  },
  {
   "cell_type": "code",
   "execution_count": 43,
   "id": "6097b6f7",
   "metadata": {},
   "outputs": [
    {
     "name": "stdout",
     "output_type": "stream",
     "text": [
      "[[0. 0. 0. 0. 0.]\n",
      " [0. 0. 0. 0. 0.]\n",
      " [0. 0. 0. 0. 0.]\n",
      " [0. 0. 0. 0. 0.]\n",
      " [0. 0. 0. 0. 0.]]\n"
     ]
    }
   ],
   "source": [
    "print(S1 - S1.T)"
   ]
  },
  {
   "cell_type": "code",
   "execution_count": 44,
   "id": "b30eda9a",
   "metadata": {},
   "outputs": [
    {
     "name": "stdout",
     "output_type": "stream",
     "text": [
      "[[0. 0. 0. 0. 0.]\n",
      " [0. 0. 0. 0. 0.]\n",
      " [0. 0. 0. 0. 0.]\n",
      " [0. 0. 0. 0. 0.]\n",
      " [0. 0. 0. 0. 0.]]\n"
     ]
    }
   ],
   "source": [
    "print(S2 - S2.T)"
   ]
  },
  {
   "cell_type": "code",
   "execution_count": 45,
   "id": "676525ed",
   "metadata": {},
   "outputs": [
    {
     "name": "stdout",
     "output_type": "stream",
     "text": [
      "[[ 49.  -2. -25.]\n",
      " [ -2.  34.  17.]\n",
      " [-25.  17.  31.]]\n",
      "\n",
      "[[50. 18. 13. -7. 14.]\n",
      " [18. 13.  5. -2.  2.]\n",
      " [13.  5. 18.  9. 20.]\n",
      " [-7. -2.  9.  9. 10.]\n",
      " [14.  2. 20. 10. 24.]]\n"
     ]
    }
   ],
   "source": [
    "# Multiplicative: Rectangular\n",
    "m = 5\n",
    "n = 3\n",
    "A = np.round(2*np.random.randn(m, n))\n",
    "S1 = A.T @ A\n",
    "S2 = A @ A.T\n",
    "print(S1)\n",
    "print()\n",
    "print(S2)"
   ]
  },
  {
   "cell_type": "code",
   "execution_count": 46,
   "id": "6c6d52eb",
   "metadata": {},
   "outputs": [
    {
     "name": "stdout",
     "output_type": "stream",
     "text": [
      "[[0. 0. 0.]\n",
      " [0. 0. 0.]\n",
      " [0. 0. 0.]]\n"
     ]
    }
   ],
   "source": [
    "print(S1 - S1.T)"
   ]
  },
  {
   "cell_type": "code",
   "execution_count": 47,
   "id": "c7f465f4",
   "metadata": {},
   "outputs": [
    {
     "name": "stdout",
     "output_type": "stream",
     "text": [
      "[[0. 0. 0. 0. 0.]\n",
      " [0. 0. 0. 0. 0.]\n",
      " [0. 0. 0. 0. 0.]\n",
      " [0. 0. 0. 0. 0.]\n",
      " [0. 0. 0. 0. 0.]]\n"
     ]
    }
   ],
   "source": [
    "print(S2 - S2.T)"
   ]
  },
  {
   "cell_type": "code",
   "execution_count": 48,
   "id": "ae11f0a1",
   "metadata": {},
   "outputs": [
    {
     "name": "stdout",
     "output_type": "stream",
     "text": [
      "(3, 3)\n",
      "(5, 5)\n"
     ]
    }
   ],
   "source": [
    "print(S1.shape)\n",
    "print(S2.shape)"
   ]
  },
  {
   "cell_type": "markdown",
   "id": "3b1dc7b8",
   "metadata": {},
   "source": [
    "## Hadamard Multiplication"
   ]
  },
  {
   "cell_type": "code",
   "execution_count": 49,
   "id": "e42dc753",
   "metadata": {},
   "outputs": [
    {
     "name": "stdout",
     "output_type": "stream",
     "text": [
      "[[ 0.32346659 -0.48374115]\n",
      " [-0.33145387 -0.37888006]\n",
      " [-0.27265201  0.3112975 ]\n",
      " [-0.06064081 -0.84037159]\n",
      " [-1.20903877 -0.30095847]\n",
      " [ 0.70599366 -0.15312381]\n",
      " [ 0.41001466 -0.24224401]\n",
      " [ 0.26962677 -1.15442535]\n",
      " [-0.20731147  0.26118147]\n",
      " [-0.32795942 -0.74523424]\n",
      " [ 1.44729722  0.90820448]\n",
      " [-0.28329696 -0.00455552]\n",
      " [ 0.41827126  0.68434226]]\n",
      "\n",
      "[[ 0.32346659 -0.48374115]\n",
      " [-0.33145387 -0.37888006]\n",
      " [-0.27265201  0.3112975 ]\n",
      " [-0.06064081 -0.84037159]\n",
      " [-1.20903877 -0.30095847]\n",
      " [ 0.70599366 -0.15312381]\n",
      " [ 0.41001466 -0.24224401]\n",
      " [ 0.26962677 -1.15442535]\n",
      " [-0.20731147  0.26118147]\n",
      " [-0.32795942 -0.74523424]\n",
      " [ 1.44729722  0.90820448]\n",
      " [-0.28329696 -0.00455552]\n",
      " [ 0.41827126  0.68434226]]\n"
     ]
    }
   ],
   "source": [
    "m = 13\n",
    "n = 2\n",
    "\n",
    "A = np.random.randn(m, n)\n",
    "B = np.random.randn(m, n)\n",
    "\n",
    "C1 = np.multiply(A,B)\n",
    "C2 = A*B # be careful here, element-wise A.*B in matlab\n",
    "\n",
    "print(C1)\n",
    "print()\n",
    "print(C2)"
   ]
  },
  {
   "cell_type": "code",
   "execution_count": 50,
   "id": "4a85d6f0",
   "metadata": {},
   "outputs": [
    {
     "name": "stdout",
     "output_type": "stream",
     "text": [
      "[[0. 0.]\n",
      " [0. 0.]\n",
      " [0. 0.]\n",
      " [0. 0.]\n",
      " [0. 0.]\n",
      " [0. 0.]\n",
      " [0. 0.]\n",
      " [0. 0.]\n",
      " [0. 0.]\n",
      " [0. 0.]\n",
      " [0. 0.]\n",
      " [0. 0.]\n",
      " [0. 0.]]\n"
     ]
    }
   ],
   "source": [
    "print(C1 - C2)"
   ]
  },
  {
   "cell_type": "markdown",
   "id": "c6262c7e",
   "metadata": {},
   "source": [
    "## Code Challenge: Symmetric Matrix Operations"
   ]
  },
  {
   "cell_type": "markdown",
   "id": "c099a791",
   "metadata": {},
   "source": [
    "Create two random matrices, obtain their symmetric versions and then add and carry out standard and Hadamard Multiplication. Check if the results are symmetric matrices or not."
   ]
  },
  {
   "cell_type": "code",
   "execution_count": 51,
   "id": "19a68879",
   "metadata": {},
   "outputs": [
    {
     "name": "stdout",
     "output_type": "stream",
     "text": [
      "[[ 45.   2. -10.]\n",
      " [  2.   1.  -2.]\n",
      " [-10.  -2.  24.]]\n",
      "\n",
      "[[6. 5. 1.]\n",
      " [5. 5. 0.]\n",
      " [1. 0. 6.]]\n"
     ]
    }
   ],
   "source": [
    "# Define two matrices\n",
    "n = 3\n",
    "A = np.round(3*np.random.randn(n,n))\n",
    "A_s = A.T @ A\n",
    "\n",
    "B = np.round(2*np.random.randn(n,n))\n",
    "B_s = B.T @ B\n",
    "\n",
    "print(A_s)\n",
    "print()\n",
    "print(B_s)"
   ]
  },
  {
   "cell_type": "code",
   "execution_count": 52,
   "id": "978eed84",
   "metadata": {},
   "outputs": [
    {
     "name": "stdout",
     "output_type": "stream",
     "text": [
      "[[0. 0. 0.]\n",
      " [0. 0. 0.]\n",
      " [0. 0. 0.]]\n"
     ]
    }
   ],
   "source": [
    "# Matrix Addition: Symmetric\n",
    "C_a = A_s + B_s\n",
    "print(C_a - C_a.T)"
   ]
  },
  {
   "cell_type": "code",
   "execution_count": 53,
   "id": "4bd1872e",
   "metadata": {},
   "outputs": [
    {
     "name": "stdout",
     "output_type": "stream",
     "text": [
      "[[   0.  220.   31.]\n",
      " [-220.    0.   50.]\n",
      " [ -31.  -50.    0.]]\n"
     ]
    }
   ],
   "source": [
    "# Matrix Multiplication: Non-Symmetric\n",
    "C_m = A_s @ B_s\n",
    "print(C_m - C_m.T)"
   ]
  },
  {
   "cell_type": "code",
   "execution_count": 54,
   "id": "619bb031",
   "metadata": {},
   "outputs": [
    {
     "name": "stdout",
     "output_type": "stream",
     "text": [
      "[[0. 0. 0.]\n",
      " [0. 0. 0.]\n",
      " [0. 0. 0.]]\n"
     ]
    }
   ],
   "source": [
    "# Hadamrd Multiplication: Symmetric\n",
    "C_h = A_s * B_s\n",
    "print(C_h - C_h.T)"
   ]
  },
  {
   "cell_type": "markdown",
   "id": "fa1e3a88",
   "metadata": {},
   "source": [
    "## Multiplication of Two Symmetric Matrices "
   ]
  },
  {
   "cell_type": "markdown",
   "id": "c61e83cd",
   "metadata": {},
   "source": [
    "For this case we can use sympy library which allows us to use letters instead of number to carry out matrix opertations similar to pen-and-paper scenarios"
   ]
  },
  {
   "cell_type": "code",
   "execution_count": 55,
   "id": "b181b9ee",
   "metadata": {},
   "outputs": [],
   "source": [
    "from sympy import *"
   ]
  },
  {
   "cell_type": "code",
   "execution_count": 56,
   "id": "7a6b08fc",
   "metadata": {},
   "outputs": [],
   "source": [
    "a, b, c, d, e, f, g, h, k, l, m, n, o, p, q, r, s, t, u = symbols(\"a b c d e f g h k l m n o p q r s t u\")"
   ]
  },
  {
   "cell_type": "code",
   "execution_count": 57,
   "id": "0e5d0c18",
   "metadata": {},
   "outputs": [
    {
     "name": "stdout",
     "output_type": "stream",
     "text": [
      "Matrix([[a, b, c, d], [b, a, e, f], [c, e, a, h], [d, f, h, a]])\n",
      "Matrix([[l, m, n, o], [m, l, q, r], [n, q, l, t], [o, r, t, l]])\n"
     ]
    }
   ],
   "source": [
    "# Symmetric and constant-diagonal matrix\n",
    "A = Matrix([ [a, b, c, d],\n",
    "             [b, a, e, f],\n",
    "             [c, e, a, h],\n",
    "             [d, f, h, a] ])\n",
    "\n",
    "B = Matrix([ [l, m, n, o],\n",
    "             [m, l, q, r],\n",
    "             [n, q, l, t],\n",
    "             [o, r, t, l] ])\n",
    "\n",
    "print(A)\n",
    "print(B)"
   ]
  },
  {
   "cell_type": "code",
   "execution_count": 58,
   "id": "dcfce3b6",
   "metadata": {},
   "outputs": [
    {
     "name": "stdout",
     "output_type": "stream",
     "text": [
      "Matrix([[0, 0, 0, 0], [0, 0, 0, 0], [0, 0, 0, 0], [0, 0, 0, 0]])\n",
      "Matrix([[0, 0, 0, 0], [0, 0, 0, 0], [0, 0, 0, 0], [0, 0, 0, 0]])\n"
     ]
    }
   ],
   "source": [
    "# Confirm that A and B are symmetric\n",
    "print(A - A.T)\n",
    "print(B - B.T)"
   ]
  },
  {
   "cell_type": "code",
   "execution_count": 59,
   "id": "36ae2a1f",
   "metadata": {},
   "outputs": [
    {
     "name": "stdout",
     "output_type": "stream",
     "text": [
      "Matrix([[0, 0, 0, 0], [0, 0, 0, 0], [0, 0, 0, 0], [0, 0, 0, 0]])\n",
      "Matrix([[0, 0, 0, 0], [0, 0, 0, 0], [0, 0, 0, 0], [0, 0, 0, 0]])\n"
     ]
    }
   ],
   "source": [
    "# Same as above\n",
    "print(A - A.transpose())\n",
    "print(B - B.transpose())"
   ]
  },
  {
   "cell_type": "code",
   "execution_count": 60,
   "id": "c98d455a",
   "metadata": {},
   "outputs": [
    {
     "name": "stdout",
     "output_type": "stream",
     "text": [
      "a\n",
      "a\n",
      "a\n",
      "a\n",
      "\n",
      "l\n",
      "l\n",
      "l\n",
      "l\n"
     ]
    }
   ],
   "source": [
    "# Print out the diagonal elements of A and B\n",
    "for i in range(0, np.size(A,0)):\n",
    "    print(A[i, i])\n",
    "print()\n",
    "for i in range(0, np.size(B,0)):\n",
    "    print(B[i,i])"
   ]
  },
  {
   "cell_type": "code",
   "execution_count": 61,
   "id": "05f2de76",
   "metadata": {},
   "outputs": [
    {
     "name": "stderr",
     "output_type": "stream",
     "text": [
      "/home/ilirsheraj/anaconda3/lib/python3.9/site-packages/IPython/lib/latextools.py:126: MatplotlibDeprecationWarning: \n",
      "The to_png function was deprecated in Matplotlib 3.4 and will be removed two minor releases later. Use mathtext.math_to_image instead.\n",
      "  mt.to_png(f, s, fontsize=12, dpi=dpi, color=color)\n",
      "/home/ilirsheraj/anaconda3/lib/python3.9/site-packages/IPython/lib/latextools.py:126: MatplotlibDeprecationWarning: \n",
      "The to_rgba function was deprecated in Matplotlib 3.4 and will be removed two minor releases later. Use mathtext.math_to_image instead.\n",
      "  mt.to_png(f, s, fontsize=12, dpi=dpi, color=color)\n",
      "/home/ilirsheraj/anaconda3/lib/python3.9/site-packages/IPython/lib/latextools.py:126: MatplotlibDeprecationWarning: \n",
      "The to_mask function was deprecated in Matplotlib 3.4 and will be removed two minor releases later. Use mathtext.math_to_image instead.\n",
      "  mt.to_png(f, s, fontsize=12, dpi=dpi, color=color)\n",
      "/home/ilirsheraj/anaconda3/lib/python3.9/site-packages/IPython/lib/latextools.py:126: MatplotlibDeprecationWarning: \n",
      "The MathtextBackendBitmap class was deprecated in Matplotlib 3.4 and will be removed two minor releases later. Use mathtext.math_to_image instead.\n",
      "  mt.to_png(f, s, fontsize=12, dpi=dpi, color=color)\n"
     ]
    },
    {
     "data": {
      "text/latex": [
       "$\\displaystyle \\left[\\begin{matrix}0 & c q + d r - e n - f o & b q + d t - e m - h o & b r + c t - f m - h n\\\\- c q - d r + e n + f o & 0 & b n - c m + f t - h r & b o - d m + e t - h q\\\\- b q - d t + e m + h o & - b n + c m - f t + h r & 0 & c o - d n + e r - f q\\\\- b r - c t + f m + h n & - b o + d m - e t + h q & - c o + d n - e r + f q & 0\\end{matrix}\\right]$"
      ],
      "text/plain": [
       "⎡          0             c⋅q + d⋅r - e⋅n - f⋅o   b⋅q + d⋅t - e⋅m - h⋅o   b⋅r +\n",
       "⎢                                                                             \n",
       "⎢-c⋅q - d⋅r + e⋅n + f⋅o            0             b⋅n - c⋅m + f⋅t - h⋅r   b⋅o -\n",
       "⎢                                                                             \n",
       "⎢-b⋅q - d⋅t + e⋅m + h⋅o  -b⋅n + c⋅m - f⋅t + h⋅r            0             c⋅o -\n",
       "⎢                                                                             \n",
       "⎣-b⋅r - c⋅t + f⋅m + h⋅n  -b⋅o + d⋅m - e⋅t + h⋅q  -c⋅o + d⋅n - e⋅r + f⋅q       \n",
       "\n",
       " c⋅t - f⋅m - h⋅n⎤\n",
       "                ⎥\n",
       " d⋅m + e⋅t - h⋅q⎥\n",
       "                ⎥\n",
       " d⋅n + e⋅r - f⋅q⎥\n",
       "                ⎥\n",
       "     0          ⎦"
      ]
     },
     "execution_count": 61,
     "metadata": {},
     "output_type": "execute_result"
    }
   ],
   "source": [
    "# Nice printing from sympy: Not symmetric\n",
    "init_printing()\n",
    "A@B - (A@B).T"
   ]
  },
  {
   "cell_type": "code",
   "execution_count": 62,
   "id": "2ff1bd5b",
   "metadata": {},
   "outputs": [
    {
     "data": {
      "text/latex": [
       "$\\displaystyle \\left[\\begin{matrix}0 & 0\\\\0 & 0\\end{matrix}\\right]$"
      ],
      "text/plain": [
       "⎡0  0⎤\n",
       "⎢    ⎥\n",
       "⎣0  0⎦"
      ]
     },
     "execution_count": 62,
     "metadata": {},
     "output_type": "execute_result"
    }
   ],
   "source": [
    "# Pick submatrix: Symmetric\n",
    "init_printing()\n",
    "n = 2\n",
    "A1 = A[0:n, 0:n]\n",
    "B1 = B[0:n, 0:n]\n",
    "\n",
    "A1@B1 - (A1@B1).T"
   ]
  },
  {
   "cell_type": "code",
   "execution_count": 63,
   "id": "4ebc7add",
   "metadata": {},
   "outputs": [
    {
     "data": {
      "text/latex": [
       "$\\displaystyle \\left[\\begin{matrix}0 & c q - e n & b q - e m\\\\- c q + e n & 0 & b n - c m\\\\- b q + e m & - b n + c m & 0\\end{matrix}\\right]$"
      ],
      "text/plain": [
       "⎡    0       c⋅q - e⋅n   b⋅q - e⋅m⎤\n",
       "⎢                                 ⎥\n",
       "⎢-c⋅q + e⋅n      0       b⋅n - c⋅m⎥\n",
       "⎢                                 ⎥\n",
       "⎣-b⋅q + e⋅m  -b⋅n + c⋅m      0    ⎦"
      ]
     },
     "execution_count": 63,
     "metadata": {},
     "output_type": "execute_result"
    }
   ],
   "source": [
    "# Again non-symmetric for n = 3\n",
    "init_printing()\n",
    "n = 3\n",
    "A1 = A[0:n, 0:n]\n",
    "B1 = B[0:n, 0:n]\n",
    "\n",
    "A1@B1 - (A1@B1).T"
   ]
  },
  {
   "cell_type": "markdown",
   "id": "e2be0607",
   "metadata": {},
   "source": [
    "## Diagonal Matrix Multiplication"
   ]
  },
  {
   "cell_type": "code",
   "execution_count": 64,
   "id": "571327ad",
   "metadata": {},
   "outputs": [
    {
     "name": "stdout",
     "output_type": "stream",
     "text": [
      "[[ 0.66842533  0.41570525  0.5591113   0.6149531 ]\n",
      " [ 0.18974817  0.54873505 -0.31487664  1.17525488]\n",
      " [-0.27177813 -0.93080983  0.39587288 -0.02606109]\n",
      " [ 0.10139855  0.06440677 -0.24809168  0.91611595]]\n",
      "\n",
      "[[-0.43057542  0.          0.          0.        ]\n",
      " [ 0.         -0.51942413  0.          0.        ]\n",
      " [ 0.          0.          1.99858429  0.        ]\n",
      " [ 0.          0.          0.         -1.01515536]]\n"
     ]
    }
   ],
   "source": [
    "# Create two square matrices, full and diagonal\n",
    "A = np.random.randn(4,4)\n",
    "D = np.diag(np.random.randn(4))\n",
    "print(A)\n",
    "print()\n",
    "print(D)"
   ]
  },
  {
   "cell_type": "code",
   "execution_count": 65,
   "id": "580ba8df",
   "metadata": {},
   "outputs": [
    {
     "name": "stdout",
     "output_type": "stream",
     "text": [
      "[[ 0.43607286  0.0251608   0.31160054  1.44840716]\n",
      " [ 0.43569968  0.7487741  -0.48291559  1.84646554]\n",
      " [-0.468515   -0.99390845  0.30431693 -1.29526146]\n",
      " [ 0.24031715  0.3674244  -0.28908062  0.98378369]]\n",
      "\n",
      "[[4.46792428e-01 1.72810854e-01 3.12605449e-01 3.78167319e-01]\n",
      " [3.60043671e-02 3.01110151e-01 9.91473009e-02 1.38122404e+00]\n",
      " [7.38633536e-02 8.66406942e-01 1.56715339e-01 6.79180190e-04]\n",
      " [1.02816659e-02 4.14823179e-03 6.15494811e-02 8.39268435e-01]]\n"
     ]
    }
   ],
   "source": [
    "# Multiply each matrix by itslef: Standard and Hadamard\n",
    "print(A@A)\n",
    "print()\n",
    "print(A*A)"
   ]
  },
  {
   "cell_type": "code",
   "execution_count": 66,
   "id": "cf851d60",
   "metadata": {},
   "outputs": [
    {
     "name": "stdout",
     "output_type": "stream",
     "text": [
      "[[0.18539519 0.         0.         0.        ]\n",
      " [0.         0.26980142 0.         0.        ]\n",
      " [0.         0.         3.99433918 0.        ]\n",
      " [0.         0.         0.         1.03054041]]\n",
      "\n",
      "[[0.18539519 0.         0.         0.        ]\n",
      " [0.         0.26980142 0.         0.        ]\n",
      " [0.         0.         3.99433918 0.        ]\n",
      " [0.         0.         0.         1.03054041]]\n"
     ]
    }
   ],
   "source": [
    "# Multiply diagonal matrix: Standard and Hadamard\n",
    "print(D@D)\n",
    "print()\n",
    "print(D*D)"
   ]
  },
  {
   "cell_type": "markdown",
   "id": "7658cb89",
   "metadata": {},
   "source": [
    "## Fourier Transformation "
   ]
  },
  {
   "cell_type": "code",
   "execution_count": 67,
   "id": "9d195d44",
   "metadata": {},
   "outputs": [
    {
     "data": {
      "text/plain": [
       "True"
      ]
     },
     "execution_count": 67,
     "metadata": {},
     "output_type": "execute_result"
    }
   ],
   "source": [
    "# Define a matrix\n",
    "n = 50\n",
    "X, Y = np.meshgrid(range(n), range(n))\n",
    "w = np.exp(-2*np.pi*1j/n)\n",
    "F = w ** (X * Y)\n",
    "\n",
    "# Create a vector X\n",
    "x = np.random.randn(n, 1)\n",
    "x1 = F @ x\n",
    "# calculate fourier transform using the algorithm\n",
    "x2 = np.fft.fft(x, axis=0)\n",
    "np.allclose(x1, x2)"
   ]
  },
  {
   "cell_type": "code",
   "execution_count": 68,
   "id": "30bed046",
   "metadata": {},
   "outputs": [
    {
     "data": {
      "image/png": "[encoded data removed]",
      "text/plain": [
       "<Figure size 432x288 with 1 Axes>"
      ]
     },
     "metadata": {
      "needs_background": "light"
     },
     "output_type": "display_data"
    },
    {
     "data": {
      "image/png": "[encoded data removed]",
      "text/plain": [
       "<Figure size 432x288 with 2 Axes>"
      ]
     },
     "metadata": {
      "needs_background": "light"
     },
     "output_type": "display_data"
    }
   ],
   "source": [
    "plt.imshow(F.real, cmap='jet')\n",
    "plt.show()\n",
    "plt.imshow(abs(F))\n",
    "plt.colorbar()\n",
    "plt.show()"
   ]
  },
  {
   "cell_type": "code",
   "execution_count": 69,
   "id": "95cf1065",
   "metadata": {},
   "outputs": [
    {
     "data": {
      "image/png": "[encoded data removed]",
      "text/plain": [
       "<Figure size 432x288 with 1 Axes>"
      ]
     },
     "metadata": {
      "needs_background": "light"
     },
     "output_type": "display_data"
    },
    {
     "data": {
      "image/png": "[encoded data removed]",
      "text/plain": [
       "<Figure size 432x288 with 1 Axes>"
      ]
     },
     "metadata": {
      "needs_background": "light"
     },
     "output_type": "display_data"
    }
   ],
   "source": [
    "plt.figure()\n",
    "plt.plot(abs(x1))\n",
    "plt.plot(abs(x2), marker='o', color='r', linestyle='None')\n",
    "plt.show()\n",
    "plt.plot(F.real[:,25])\n",
    "plt.show()"
   ]
  },
  {
   "cell_type": "markdown",
   "id": "b3f660c9",
   "metadata": {},
   "source": [
    "## Frobenius Dot Product"
   ]
  },
  {
   "cell_type": "code",
   "execution_count": 70,
   "id": "005c685a",
   "metadata": {},
   "outputs": [
    {
     "name": "stdout",
     "output_type": "stream",
     "text": [
      "5.900516336666178\n"
     ]
    }
   ],
   "source": [
    "# Any Matrix Sizes\n",
    "m = 9\n",
    "n = 4\n",
    "\n",
    "# The two matrixes must be of the same dimensions\n",
    "A = np.random.randn(m,n)\n",
    "B = np.random.randn(m,n)\n",
    "\n",
    "# First vectorize and then take vector dot product\n",
    "Av = np.reshape(A, m*n, order = \"F\") # order = F reshapes by column instead of row\n",
    "Bv = np.reshape(B, m*n, order = \"F\")\n",
    "\n",
    "# Take dot product\n",
    "frob_dp = np.dot(Av, Bv)\n",
    "print(frob_dp)"
   ]
  },
  {
   "cell_type": "code",
   "execution_count": 71,
   "id": "ca4ad7d1",
   "metadata": {},
   "outputs": [
    {
     "name": "stdout",
     "output_type": "stream",
     "text": [
      "5.900516336666177\n"
     ]
    }
   ],
   "source": [
    "# Use the trace method\n",
    "frob_dp2 = np.trace(A.T @ B)\n",
    "print(frob_dp2)"
   ]
  },
  {
   "cell_type": "code",
   "execution_count": 72,
   "id": "c9289a00",
   "metadata": {},
   "outputs": [
    {
     "name": "stdout",
     "output_type": "stream",
     "text": [
      "5.900516336666178\n"
     ]
    }
   ],
   "source": [
    "# Elemen-Wise multiplication and sum up\n",
    "frob_dp3 = np.sum(A*B)\n",
    "print(frob_dp3)"
   ]
  },
  {
   "cell_type": "code",
   "execution_count": 73,
   "id": "17622bb5",
   "metadata": {},
   "outputs": [
    {
     "name": "stdout",
     "output_type": "stream",
     "text": [
      "5.409808505710466\n",
      "\n",
      "5.409808505710466\n"
     ]
    }
   ],
   "source": [
    "# Compute matrix Norm in two different ways\n",
    "Anorm = np.linalg.norm(A, \"fro\") # fro = Frobenius\n",
    "Anorm2 = np.sqrt(np.trace(A.T@A))\n",
    "print(Anorm)\n",
    "print()\n",
    "print(Anorm2)"
   ]
  },
  {
   "cell_type": "markdown",
   "id": "30118864",
   "metadata": {},
   "source": [
    "## Matrix Norms "
   ]
  },
  {
   "cell_type": "code",
   "execution_count": 74,
   "id": "62d3fc32",
   "metadata": {},
   "outputs": [
    {
     "name": "stdout",
     "output_type": "stream",
     "text": [
      "16.431676725154983\n"
     ]
    }
   ],
   "source": [
    "# Create a Matrix\n",
    "A = np.array([[1,2,3], [4, 5, 6], [7, 7, 9]])\n",
    "\n",
    "# Frobenius Norm\n",
    "normFrob = np.linalg.norm(A, \"fro\")\n",
    "print(normFrob)"
   ]
  },
  {
   "cell_type": "code",
   "execution_count": 75,
   "id": "b0d50b62",
   "metadata": {},
   "outputs": [
    {
     "name": "stdout",
     "output_type": "stream",
     "text": [
      "16.392007827749776\n"
     ]
    }
   ],
   "source": [
    "# Induced-2 Norm\n",
    "normInd2 = np.linalg.norm(A,2)\n",
    "print(normInd2)"
   ]
  },
  {
   "cell_type": "code",
   "execution_count": 76,
   "id": "21bf5223",
   "metadata": {},
   "outputs": [
    {
     "name": "stdout",
     "output_type": "stream",
     "text": [
      "16.39200782774977\n"
     ]
    }
   ],
   "source": [
    "# Induced-2 norm other way\n",
    "lamb = np.sqrt(np.max(np.linalg.eig(A.T@A)[0]))\n",
    "print(lamb)"
   ]
  },
  {
   "cell_type": "code",
   "execution_count": 77,
   "id": "07271e23",
   "metadata": {},
   "outputs": [
    {
     "name": "stdout",
     "output_type": "stream",
     "text": [
      "17.818241836274783\n"
     ]
    }
   ],
   "source": [
    "# Schatten p-norm\n",
    "p = 1\n",
    "s = np.linalg.svd(A)[1]\n",
    "normSchat = np.sum(s**p)**(1/p)\n",
    "print(normSchat)"
   ]
  },
  {
   "cell_type": "code",
   "execution_count": 78,
   "id": "bd6e039a",
   "metadata": {},
   "outputs": [
    {
     "name": "stdout",
     "output_type": "stream",
     "text": [
      "16.431676725154986\n"
     ]
    }
   ],
   "source": [
    "# Same as Frobenius\n",
    "p = 2\n",
    "s = np.linalg.svd(A)[1]\n",
    "normSchat = np.sum(s**p)**(1/p)\n",
    "print(normSchat)"
   ]
  },
  {
   "cell_type": "code",
   "execution_count": 79,
   "id": "43f7f15e",
   "metadata": {},
   "outputs": [
    {
     "name": "stdout",
     "output_type": "stream",
     "text": [
      "2.23606797749979\n",
      "\n",
      "1.0000000000000002\n",
      "\n",
      "2.23606797749979\n"
     ]
    }
   ],
   "source": [
    "# Optional orthogonal matrix to show that 2-norm is 1\n",
    "# Q is orthogonal matrix, they are pure rotational, so induced-2 is 1\n",
    "Q,R = np.linalg.qr(np.random.randn(5,5))\n",
    "A = Q\n",
    "normFrob = np.linalg.norm(A, \"fro\")\n",
    "normInd2 = np.linalg.norm(A,2)\n",
    "p = 2\n",
    "s = np.linalg.svd(A)[1]\n",
    "normSchat = np.sum(s**p)**(1/p)\n",
    "print(normFrob)\n",
    "print()\n",
    "print(normInd2)\n",
    "print()\n",
    "print(normSchat)"
   ]
  },
  {
   "cell_type": "markdown",
   "id": "4e645724",
   "metadata": {},
   "source": [
    "## Conditions for Self-Adjoint"
   ]
  },
  {
   "cell_type": "code",
   "execution_count": 80,
   "id": "7785e7f2",
   "metadata": {},
   "outputs": [
    {
     "name": "stdout",
     "output_type": "stream",
     "text": [
      "-1.7763568394002505e-15\n"
     ]
    }
   ],
   "source": [
    "# Three conditions for self-adjoint\n",
    "# 1 - A must be a square matrix (mxm)\n",
    "# 2 - A must be symmetric\n",
    "# 3 - vectors v and w must be the same size (mx1)\n",
    "m = 5\n",
    "A = np.random.randn(m,m)\n",
    "A_s = A.T @ A\n",
    "v = np.random.randn(m)\n",
    "w = np.random.randn(m)\n",
    "\n",
    "print(((A_s @ v).T @ w) - (v.T @ (A_s @ w)))"
   ]
  },
  {
   "cell_type": "code",
   "execution_count": 81,
   "id": "acbcb264",
   "metadata": {},
   "outputs": [
    {
     "name": "stdout",
     "output_type": "stream",
     "text": [
      "-1.7763568394002505e-15\n"
     ]
    }
   ],
   "source": [
    "print(np.dot(A_s @ v, w) - np.dot(v, A_s @ w))"
   ]
  },
  {
   "cell_type": "markdown",
   "id": "9423c643",
   "metadata": {},
   "source": [
    "## Code Challenge: Matrix Assymetry Index"
   ]
  },
  {
   "cell_type": "markdown",
   "id": "b344f27a",
   "metadata": {},
   "source": [
    "This problem has four parts:\n",
    "\n",
    "1 - Define and Calculate the Matrix Assymetry Index (MAI)\n",
    "\n",
    "2 - Compute MAI for symmetric, skewed and random matrix\n",
    "\n",
    "3 - Define a formula for mixing skewed/symmetric matrices\n",
    "\n",
    "4 - Test on random matrices and plot MAI vs p-value plot"
   ]
  },
  {
   "cell_type": "markdown",
   "id": "5886cd31",
   "metadata": {},
   "source": [
    "### Compute MAI for three matrices"
   ]
  },
  {
   "cell_type": "code",
   "execution_count": 82,
   "id": "233ed5dc",
   "metadata": {},
   "outputs": [
    {
     "name": "stdout",
     "output_type": "stream",
     "text": [
      "0.5577726462320742\n"
     ]
    }
   ],
   "source": [
    "# Define MAI and calculate it for a random matrix\n",
    "## It varies between 0 and 1\n",
    "m = 5\n",
    "A = np.random.randn(m,m)\n",
    "A_tilda = (A - A.T)/2\n",
    "MAI = np.linalg.norm(A_tilda)/np.linalg.norm(A)\n",
    "print(MAI)"
   ]
  },
  {
   "cell_type": "code",
   "execution_count": 83,
   "id": "4e23938a",
   "metadata": {},
   "outputs": [
    {
     "name": "stdout",
     "output_type": "stream",
     "text": [
      "0.5728034729129542\n"
     ]
    }
   ],
   "source": [
    "# Define a MAI function\n",
    "def MAI(A):\n",
    "    \"\"\"\n",
    "    A is a matrix\n",
    "    \"\"\"\n",
    "    return np.linalg.norm((A - A.T)/2)/np.linalg.norm((A))\n",
    "A = np.random.randn(5,5)\n",
    "print(MAI(A))"
   ]
  },
  {
   "cell_type": "code",
   "execution_count": 84,
   "id": "b213cd8f",
   "metadata": {},
   "outputs": [
    {
     "name": "stdout",
     "output_type": "stream",
     "text": [
      "0.0\n"
     ]
    }
   ],
   "source": [
    "# Compute MAI for a perfectly symmetric matrix \n",
    "## Expected to be zero\n",
    "A = np.random.randn(m,m)\n",
    "A = (A + A.T)/2\n",
    "print(np.linalg.norm((A - A.T)/2)/np.linalg.norm(A))"
   ]
  },
  {
   "cell_type": "code",
   "execution_count": 85,
   "id": "e242bc6f",
   "metadata": {},
   "outputs": [
    {
     "name": "stderr",
     "output_type": "stream",
     "text": [
      "/home/ilirsheraj/anaconda3/lib/python3.9/site-packages/IPython/lib/latextools.py:126: MatplotlibDeprecationWarning: \n",
      "The to_png function was deprecated in Matplotlib 3.4 and will be removed two minor releases later. Use mathtext.math_to_image instead.\n",
      "  mt.to_png(f, s, fontsize=12, dpi=dpi, color=color)\n",
      "/home/ilirsheraj/anaconda3/lib/python3.9/site-packages/IPython/lib/latextools.py:126: MatplotlibDeprecationWarning: \n",
      "The to_rgba function was deprecated in Matplotlib 3.4 and will be removed two minor releases later. Use mathtext.math_to_image instead.\n",
      "  mt.to_png(f, s, fontsize=12, dpi=dpi, color=color)\n",
      "/home/ilirsheraj/anaconda3/lib/python3.9/site-packages/IPython/lib/latextools.py:126: MatplotlibDeprecationWarning: \n",
      "The to_mask function was deprecated in Matplotlib 3.4 and will be removed two minor releases later. Use mathtext.math_to_image instead.\n",
      "  mt.to_png(f, s, fontsize=12, dpi=dpi, color=color)\n",
      "/home/ilirsheraj/anaconda3/lib/python3.9/site-packages/IPython/lib/latextools.py:126: MatplotlibDeprecationWarning: \n",
      "The MathtextBackendBitmap class was deprecated in Matplotlib 3.4 and will be removed two minor releases later. Use mathtext.math_to_image instead.\n",
      "  mt.to_png(f, s, fontsize=12, dpi=dpi, color=color)\n"
     ]
    },
    {
     "data": {
      "image/png": "[encoded data removed]",
      "text/latex": [
       "$\\displaystyle 1.0$"
      ],
      "text/plain": [
       "1.0"
      ]
     },
     "execution_count": 85,
     "metadata": {},
     "output_type": "execute_result"
    }
   ],
   "source": [
    "# Compute MAI for a skewed matrix\n",
    "A = np.random.randn(m,m)\n",
    "A = (A - A.T)/2 # create a skewed matrix\n",
    "np.linalg.norm((A - A.T)/2)/np.linalg.norm(A)"
   ]
  },
  {
   "cell_type": "markdown",
   "id": "e0bf5af7",
   "metadata": {},
   "source": [
    "### Generate a formula for mixing Skewed/Symmetric Matrices"
   ]
  },
  {
   "cell_type": "code",
   "execution_count": 86,
   "id": "2ee94349",
   "metadata": {},
   "outputs": [
    {
     "name": "stdout",
     "output_type": "stream",
     "text": [
      "[[  0.   7.  -1.   2.   3.]\n",
      " [ -7.   0.  -3.  10.   3.]\n",
      " [  1.   3.   0. -10.  -3.]\n",
      " [ -2. -10.  10.   0.  -5.]\n",
      " [ -3.  -3.   3.   5.   0.]]\n"
     ]
    }
   ],
   "source": [
    "A = np.round(4*np.random.randn(m,m))\n",
    "# Define p\n",
    "p = 1\n",
    "# p = 0: The matrix should be 100% symmetric\n",
    "# p = 1: The matrix should be 100% skewed\n",
    "A = (1-p)*(A + A.T) + p*(A - A.T)\n",
    "print(A)"
   ]
  },
  {
   "cell_type": "code",
   "execution_count": 87,
   "id": "e19c232c",
   "metadata": {},
   "outputs": [
    {
     "name": "stdout",
     "output_type": "stream",
     "text": [
      "[[  2.   4.   1.   2.  -4.]\n",
      " [  4.  -2.  -3.   9.  -4.]\n",
      " [  1.  -3.   4.  -9.   1.]\n",
      " [  2.   9.  -9. -10.  -7.]\n",
      " [ -4.  -4.   1.  -7.  20.]]\n"
     ]
    }
   ],
   "source": [
    "A = np.round(4*np.random.randn(m,m))\n",
    "# Define p\n",
    "p = 0\n",
    "# p = 0: The matrix should be 100% symmetric\n",
    "# p = 1: The matrix should be 100% skewed\n",
    "A = (1-p)*(A + A.T) + p*(A - A.T)\n",
    "print(A)"
   ]
  },
  {
   "cell_type": "markdown",
   "id": "0b62f7d1",
   "metadata": {},
   "source": [
    "### Create Random Matrices"
   ]
  },
  {
   "cell_type": "code",
   "execution_count": 88,
   "id": "da4888a3",
   "metadata": {},
   "outputs": [
    {
     "data": {
      "image/png": "[encoded data removed]",
      "text/plain": [
       "<Figure size 432x288 with 1 Axes>"
      ]
     },
     "metadata": {
      "needs_background": "light"
     },
     "output_type": "display_data"
    }
   ],
   "source": [
    "m = 20 # Increaze the size of m and the two lines fit better\n",
    "p_vals = np.linspace(0, 1, 100)\n",
    "mai = np.zeros((len(p_vals)))\n",
    "for i in range(0,len(p_vals)):\n",
    "    p = p_vals[i]\n",
    "    A = np.random.randn(m,m)\n",
    "    A = (1-p)*(A + A.T) + p*(A - A.T)\n",
    "    mai[i] = np.linalg.norm((A - A.T)/2)/np.linalg.norm(A)\n",
    "\n",
    "plt.plot(p_vals,mai, marker = \"o\", color = \"r\")\n",
    "plt.xlabel(\"p-value\")\n",
    "plt.ylabel(\"MAI\")\n",
    "plt.show()"
   ]
  },
  {
   "cell_type": "code",
   "execution_count": 89,
   "id": "560cf755",
   "metadata": {},
   "outputs": [
    {
     "data": {
      "image/png": "[encoded data removed]",
      "text/plain": [
       "<Figure size 432x288 with 1 Axes>"
      ]
     },
     "metadata": {
      "needs_background": "light"
     },
     "output_type": "display_data"
    }
   ],
   "source": [
    "m = 10 # Increaze the size of m and the two lines fit better\n",
    "p_vals = np.linspace(0, 1, 100)\n",
    "mai = np.zeros((len(p_vals)))\n",
    "for i in range(0,len(p_vals)):\n",
    "    p = p_vals[i]\n",
    "    A = np.random.randn(m,m)\n",
    "    A = (1-p)*(A + A.T) + p*(A - A.T)\n",
    "    mai[i] = MAI(A) # Function defined above\n",
    "\n",
    "plt.plot(p_vals, mai, marker = \"o\", color = \"r\")\n",
    "plt.xlabel(\"p-value\")\n",
    "plt.ylabel(\"MAI\")\n",
    "plt.show()"
   ]
  },
  {
   "cell_type": "markdown",
   "id": "8f17236c",
   "metadata": {},
   "source": [
    "## Matrix DIvision: Element-Wise "
   ]
  },
  {
   "cell_type": "code",
   "execution_count": 90,
   "id": "7a5162bb",
   "metadata": {},
   "outputs": [
    {
     "data": {
      "text/plain": [
       "array([[2., 2.],\n",
       "       [1., 3.]])"
      ]
     },
     "execution_count": 90,
     "metadata": {},
     "output_type": "execute_result"
    }
   ],
   "source": [
    "A = np.array([[2,4], \n",
    "              [3,9]])\n",
    "B = np.array([[1,2],\n",
    "              [3,3]])\n",
    "A/B"
   ]
  }
 ],
 "metadata": {
  "kernelspec": {
   "display_name": "Python 3 (ipykernel)",
   "language": "python",
   "name": "python3"
  },
  "language_info": {
   "codemirror_mode": {
    "name": "ipython",
    "version": 3
   },
   "file_extension": ".py",
   "mimetype": "text/x-python",
   "name": "python",
   "nbconvert_exporter": "python",
   "pygments_lexer": "ipython3",
   "version": "3.9.7"
  }
 },
 "nbformat": 4,
 "nbformat_minor": 5
}
