{
 "cells": [
  {
   "cell_type": "markdown",
   "id": "b2f48a3c",
   "metadata": {},
   "source": [
    "## Compute Matrix Inverse"
   ]
  },
  {
   "cell_type": "code",
   "execution_count": 1,
   "id": "d625b2ba",
   "metadata": {},
   "outputs": [],
   "source": [
    "import numpy as np\n",
    "import matplotlib.pyplot as plt\n",
    "from sympy import Matrix"
   ]
  },
  {
   "cell_type": "code",
   "execution_count": 2,
   "id": "a2929f63",
   "metadata": {},
   "outputs": [
    {
     "name": "stdout",
     "output_type": "stream",
     "text": [
      "[[ 0.08301172  0.76837902  1.26860083]\n",
      " [ 2.55399882 -0.61117001  0.64584385]\n",
      " [-0.69552345 -1.01458723  0.78655235]]\n",
      "\n",
      "[[-0.03061835  0.33179401 -0.22305528]\n",
      " [ 0.43118027 -0.16622967 -0.55894213]\n",
      " [ 0.52911191  0.07897251  0.3531415 ]]\n",
      "\n",
      "[[ 1.00000000e+00 -3.40229202e-17  2.86963866e-18]\n",
      " [-2.34484609e-17  1.00000000e+00 -5.43582794e-17]\n",
      " [ 1.38110323e-17  3.13677488e-17  1.00000000e+00]]\n"
     ]
    }
   ],
   "source": [
    "# Size of the square matrix\n",
    "m = 3\n",
    "\n",
    "A = np.random.randn(m,m)\n",
    "print(A)\n",
    "print()\n",
    "# Inverse\n",
    "Ainv = np.linalg.inv(A)\n",
    "print(Ainv)\n",
    "print()\n",
    "# Double-check by multiplying\n",
    "idm = A @ Ainv\n",
    "print(idm)"
   ]
  },
  {
   "cell_type": "code",
   "execution_count": 3,
   "id": "3e200978",
   "metadata": {},
   "outputs": [
    {
     "data": {
      "image/png": "[encoded data removed]",
      "text/plain": [
       "<Figure size 576x576 with 3 Axes>"
      ]
     },
     "metadata": {
      "needs_background": "light"
     },
     "output_type": "display_data"
    }
   ],
   "source": [
    "fig,ax = plt.subplots(1,3, figsize = (8,8))\n",
    "ax[0].imshow(A)\n",
    "ax[0].set_title(\"Matrix A\")\n",
    "ax[0].axis(\"off\")\n",
    "ax[1].imshow(Ainv)\n",
    "ax[1].set_title(\"Matrix $A^{-1}$\")\n",
    "ax[1].axis(\"off\")\n",
    "ax[2].imshow(idm)\n",
    "ax[2].set_title(\"Matrix A$A^{-1}$\")\n",
    "ax[2].axis(\"off\")\n",
    "plt.show()"
   ]
  },
  {
   "cell_type": "markdown",
   "id": "a15d4b3e",
   "metadata": {},
   "source": [
    "## Code Challenge: The MCA Algorithm"
   ]
  },
  {
   "cell_type": "code",
   "execution_count": 4,
   "id": "48b02c0b",
   "metadata": {},
   "outputs": [
    {
     "name": "stdout",
     "output_type": "stream",
     "text": [
      "[[ 1.  0. -0. -0.  0. -0.]\n",
      " [ 0.  1.  0. -0.  0.  0.]\n",
      " [ 0.  0.  1. -0. -0.  0.]\n",
      " [-0.  0. -0.  1. -0. -0.]\n",
      " [-0. -0. -0.  0.  1.  0.]\n",
      " [-0. -0. -0.  0. -0.  1.]]\n"
     ]
    }
   ],
   "source": [
    "m = 6\n",
    "A = np.random.randn(m,m)\n",
    "\n",
    "# Minors matrix\n",
    "minors = np.zeros((m,m))\n",
    "H = np.zeros((m,m))\n",
    "\n",
    "for i in range(m):\n",
    "    for j in range(m):\n",
    "        # Select rows and columns\n",
    "        rows = [True]*m\n",
    "        rows[i] = False\n",
    "        \n",
    "        cols = [True]*m\n",
    "        cols[j] = False\n",
    "        \n",
    "        # Minors matrix\n",
    "        minors[i,j] = np.linalg.det(A[rows,:][:,cols])\n",
    "        \n",
    "        # H matrix\n",
    "        H[i,j] = (-1)**(i+j)\n",
    "        \n",
    "# Cofactors matrix\n",
    "C = H*minors\n",
    "\n",
    "# The adjugate\n",
    "Ainv = C.T/np.linalg.det(A)\n",
    "\n",
    "print(np.round(Ainv@A))"
   ]
  },
  {
   "cell_type": "code",
   "execution_count": 5,
   "id": "670624e0",
   "metadata": {},
   "outputs": [
    {
     "data": {
      "image/png": "[encoded data removed]",
      "text/plain": [
       "<Figure size 432x288 with 1 Axes>"
      ]
     },
     "metadata": {
      "needs_background": "light"
     },
     "output_type": "display_data"
    }
   ],
   "source": [
    "plt.imshow(Ainv@A)\n",
    "plt.axis(\"off\");"
   ]
  },
  {
   "cell_type": "code",
   "execution_count": 6,
   "id": "14d25da0",
   "metadata": {},
   "outputs": [
    {
     "name": "stdout",
     "output_type": "stream",
     "text": [
      "[[-1.11022302e-16  2.22044605e-16  0.00000000e+00 -1.11022302e-16\n",
      "   0.00000000e+00  0.00000000e+00]\n",
      " [ 4.44089210e-16 -1.11022302e-16 -8.32667268e-17  0.00000000e+00\n",
      "   4.44089210e-16 -7.97972799e-17]\n",
      " [ 5.55111512e-17 -1.38777878e-16 -5.55111512e-17  0.00000000e+00\n",
      "   5.55111512e-17  0.00000000e+00]\n",
      " [-2.22044605e-16  1.11022302e-16  0.00000000e+00  4.44089210e-16\n",
      "   4.44089210e-16  5.55111512e-17]\n",
      " [-6.93889390e-17  2.22044605e-16 -2.22044605e-16 -5.55111512e-17\n",
      "  -5.55111512e-17 -2.22044605e-16]\n",
      " [ 4.44089210e-16  2.22044605e-16 -6.66133815e-16  6.66133815e-16\n",
      "   8.88178420e-16  0.00000000e+00]]\n"
     ]
    }
   ],
   "source": [
    "print(Ainv - np.linalg.inv(A))"
   ]
  },
  {
   "cell_type": "markdown",
   "id": "22981d4f",
   "metadata": {},
   "source": [
    "## Inverse via Row Reduction"
   ]
  },
  {
   "cell_type": "code",
   "execution_count": 7,
   "id": "8163d8b2",
   "metadata": {},
   "outputs": [
    {
     "data": {
      "text/latex": [
       "$\\displaystyle \\left[\\begin{matrix}28.0 & 9.0 & -23.0 & -1.0\\\\8.0 & -3.0 & -2.0 & 11.0\\\\13.0 & -23.0 & 5.0 & -3.0\\\\-2.0 & 12.0 & 3.0 & -6.0\\end{matrix}\\right]$"
      ],
      "text/plain": [
       "Matrix([\n",
       "[28.0,   9.0, -23.0, -1.0],\n",
       "[ 8.0,  -3.0,  -2.0, 11.0],\n",
       "[13.0, -23.0,   5.0, -3.0],\n",
       "[-2.0,  12.0,   3.0, -6.0]])"
      ]
     },
     "execution_count": 7,
     "metadata": {},
     "output_type": "execute_result"
    }
   ],
   "source": [
    "# define matrix dimensions\n",
    "m = 4\n",
    "A = Matrix(np.round(10*np.random.randn(m,m)), dtype=\"float\")\n",
    "A"
   ]
  },
  {
   "cell_type": "code",
   "execution_count": 8,
   "id": "017b9ba9",
   "metadata": {},
   "outputs": [
    {
     "data": {
      "text/latex": [
       "$\\displaystyle \\left[\\begin{matrix}28.0 & 9.0 & -23.0 & -1.0 & 1.0 & 0 & 0 & 0\\\\8.0 & -3.0 & -2.0 & 11.0 & 0 & 1.0 & 0 & 0\\\\13.0 & -23.0 & 5.0 & -3.0 & 0 & 0 & 1.0 & 0\\\\-2.0 & 12.0 & 3.0 & -6.0 & 0 & 0 & 0 & 1.0\\end{matrix}\\right]$"
      ],
      "text/plain": [
       "Matrix([\n",
       "[28.0,   9.0, -23.0, -1.0, 1.0,   0,   0,   0],\n",
       "[ 8.0,  -3.0,  -2.0, 11.0,   0, 1.0,   0,   0],\n",
       "[13.0, -23.0,   5.0, -3.0,   0,   0, 1.0,   0],\n",
       "[-2.0,  12.0,   3.0, -6.0,   0,   0,   0, 1.0]])"
      ]
     },
     "execution_count": 8,
     "metadata": {},
     "output_type": "execute_result"
    }
   ],
   "source": [
    "# Augment A and identity Matrix\n",
    "# axis=1 is same as cbind()\n",
    "Aaug = Matrix(np.concatenate((A, np.eye(m,m)), axis=1))\n",
    "Aaug"
   ]
  },
  {
   "cell_type": "code",
   "execution_count": 9,
   "id": "3303dcbf",
   "metadata": {},
   "outputs": [
    {
     "data": {
      "text/latex": [
       "$\\displaystyle \\left[\\begin{matrix}1 & 0 & 0 & 0 & 0.0118301528061404 & 0.0462643475811563 & 0.0331666784029294 & 0.0662629392296317\\\\0 & 1 & 0 & 0 & 0.00238246132901439 & 0.0301504588878717 & -0.0141539328216323 & 0.0619557308170786\\\\0 & 0 & 1 & 0 & -0.0275802173555853 & 0.0647606976034552 & 0.0357721287233293 & 0.105438584137267\\\\0 & 0 & 0 & 1 & -0.0129685702884773 & 0.0772598173837523 & -0.021477360749243 & -0.012123559373753\\end{matrix}\\right]$"
      ],
      "text/plain": [
       "Matrix([\n",
       "[1, 0, 0, 0,  0.0118301528061404, 0.0462643475811563,  0.0331666784029294, 0.0662629392296317],\n",
       "[0, 1, 0, 0, 0.00238246132901439, 0.0301504588878717, -0.0141539328216323, 0.0619557308170786],\n",
       "[0, 0, 1, 0, -0.0275802173555853, 0.0647606976034552,  0.0357721287233293,  0.105438584137267],\n",
       "[0, 0, 0, 1, -0.0129685702884773, 0.0772598173837523,  -0.021477360749243, -0.012123559373753]])"
      ]
     },
     "execution_count": 9,
     "metadata": {},
     "output_type": "execute_result"
    }
   ],
   "source": [
    "Asol = Aaug.rref()\n",
    "Asol[0]"
   ]
  },
  {
   "cell_type": "code",
   "execution_count": 10,
   "id": "f4719acc",
   "metadata": {},
   "outputs": [
    {
     "data": {
      "text/latex": [
       "$\\displaystyle \\left[\\begin{matrix}0.0118301528061404 & 0.0462643475811563 & 0.0331666784029294 & 0.0662629392296317\\\\0.00238246132901439 & 0.0301504588878717 & -0.0141539328216323 & 0.0619557308170786\\\\-0.0275802173555853 & 0.0647606976034552 & 0.0357721287233293 & 0.105438584137267\\\\-0.0129685702884773 & 0.0772598173837523 & -0.021477360749243 & -0.012123559373753\\end{matrix}\\right]$"
      ],
      "text/plain": [
       "Matrix([\n",
       "[ 0.0118301528061404, 0.0462643475811563,  0.0331666784029294, 0.0662629392296317],\n",
       "[0.00238246132901439, 0.0301504588878717, -0.0141539328216323, 0.0619557308170786],\n",
       "[-0.0275802173555853, 0.0647606976034552,  0.0357721287233293,  0.105438584137267],\n",
       "[-0.0129685702884773, 0.0772598173837523,  -0.021477360749243, -0.012123559373753]])"
      ]
     },
     "execution_count": 10,
     "metadata": {},
     "output_type": "execute_result"
    }
   ],
   "source": [
    "Ainvrref = Asol[0][:, m:m*2]\n",
    "Ainvrref"
   ]
  },
  {
   "cell_type": "code",
   "execution_count": 11,
   "id": "0ae29763",
   "metadata": {},
   "outputs": [
    {
     "data": {
      "text/latex": [
       "$\\displaystyle \\left[\\begin{matrix}0.0118301528061404 & 0.0462643475811563 & 0.0331666784029294 & 0.0662629392296317\\\\0.00238246132901439 & 0.0301504588878717 & -0.0141539328216323 & 0.0619557308170786\\\\-0.0275802173555853 & 0.0647606976034552 & 0.0357721287233293 & 0.105438584137267\\\\-0.0129685702884773 & 0.0772598173837523 & -0.021477360749243 & -0.012123559373753\\end{matrix}\\right]$"
      ],
      "text/plain": [
       "Matrix([\n",
       "[ 0.0118301528061404, 0.0462643475811563,  0.0331666784029294, 0.0662629392296317],\n",
       "[0.00238246132901439, 0.0301504588878717, -0.0141539328216323, 0.0619557308170786],\n",
       "[-0.0275802173555853, 0.0647606976034552,  0.0357721287233293,  0.105438584137267],\n",
       "[-0.0129685702884773, 0.0772598173837523,  -0.021477360749243, -0.012123559373753]])"
      ]
     },
     "execution_count": 11,
     "metadata": {},
     "output_type": "execute_result"
    }
   ],
   "source": [
    "# Works only in sympy\n",
    "Ainv = A.inv()\n",
    "Ainv"
   ]
  },
  {
   "cell_type": "code",
   "execution_count": 12,
   "id": "797f5e07",
   "metadata": {},
   "outputs": [
    {
     "data": {
      "image/png": "[encoded data removed]",
      "text/plain": [
       "<Figure size 432x288 with 2 Axes>"
      ]
     },
     "metadata": {
      "needs_background": "light"
     },
     "output_type": "display_data"
    }
   ],
   "source": [
    "# Visualize them\n",
    "plt.subplot(211)\n",
    "plt.imshow(np.array(Aaug, dtype=\"float\"), vmin=-5,vmax=5)\n",
    "plt.title(\"A|I\")\n",
    "plt.axis(\"off\")\n",
    "plt.subplot(212)\n",
    "plt.imshow(np.array(Asol[0], dtype=\"float\"))#, vmin=-5,vmax=5)\n",
    "plt.title(\"I|A$^{-1}$\")\n",
    "plt.axis(\"off\")\n",
    "\n",
    "plt.show()"
   ]
  },
  {
   "cell_type": "code",
   "execution_count": 13,
   "id": "eb958f6a",
   "metadata": {},
   "outputs": [
    {
     "data": {
      "image/png": "[encoded data removed]",
      "text/plain": [
       "<Figure size 432x288 with 3 Axes>"
      ]
     },
     "metadata": {
      "needs_background": "light"
     },
     "output_type": "display_data"
    }
   ],
   "source": [
    "# Visualize them\n",
    "plt.subplot(131)\n",
    "plt.imshow(np.array(A, dtype=\"float\"))#, vmin=-5,vmax=5)\n",
    "plt.title(\"Matrix A\")\n",
    "plt.axis(\"off\")\n",
    "\n",
    "plt.subplot(132)\n",
    "plt.imshow(np.array(Ainvrref, dtype=\"float\")) #, vmin=-5,vmax=5)\n",
    "plt.title(\"A$^{-1}$ from rref()\")\n",
    "plt.axis(\"off\")\n",
    "\n",
    "plt.subplot(133)\n",
    "plt.imshow(np.array(Ainv, dtype=\"float\"))#, vmin=-5,vmax=5)\n",
    "plt.title(\"A$^{-1}$ from (inv)\")\n",
    "plt.axis(\"off\")\n",
    "\n",
    "plt.show()"
   ]
  },
  {
   "cell_type": "markdown",
   "id": "c3b0a555",
   "metadata": {},
   "source": [
    "## Code Challenge: Diagonal Matrices and their Inverses"
   ]
  },
  {
   "cell_type": "code",
   "execution_count": 14,
   "id": "3a9a9496",
   "metadata": {},
   "outputs": [
    {
     "name": "stdout",
     "output_type": "stream",
     "text": [
      "[[2 0]\n",
      " [0 3]]\n",
      "\n",
      "[[0.5        0.        ]\n",
      " [0.         0.33333333]]\n"
     ]
    }
   ],
   "source": [
    "# Create diagonal matrices starting with 2x2\n",
    "# compute their inverses\n",
    "\n",
    "A = np.array([[2,0], [0,3]])\n",
    "print(A)\n",
    "print()\n",
    "print(np.linalg.inv(A))"
   ]
  },
  {
   "cell_type": "code",
   "execution_count": 15,
   "id": "6e2116f6",
   "metadata": {},
   "outputs": [
    {
     "name": "stdout",
     "output_type": "stream",
     "text": [
      "[[1 0 0 0 0]\n",
      " [0 2 0 0 0]\n",
      " [0 0 3 0 0]\n",
      " [0 0 0 4 0]\n",
      " [0 0 0 0 5]]\n",
      "\n",
      "[[ 1.          0.          0.          0.          0.        ]\n",
      " [ 0.          0.5         0.          0.          0.        ]\n",
      " [ 0.          0.          0.33333333  0.          0.        ]\n",
      " [-0.         -0.         -0.          0.25       -0.        ]\n",
      " [ 0.          0.          0.          0.          0.2       ]]\n"
     ]
    }
   ],
   "source": [
    "# Automatic generation\n",
    "A = np.diag(np.arange(1,6))\n",
    "print(A)\n",
    "print()\n",
    "print(np.linalg.inv(A))"
   ]
  },
  {
   "cell_type": "code",
   "execution_count": 16,
   "id": "7138492f",
   "metadata": {},
   "outputs": [
    {
     "data": {
      "text/plain": [
       "array([[ 1,  0,  0,  0,  0,  0],\n",
       "       [ 0,  6,  0,  0,  0,  0],\n",
       "       [ 0,  0,  3,  0,  0,  0],\n",
       "       [ 0,  0,  0,  8,  0,  0],\n",
       "       [ 0,  0,  0,  0,  9,  0],\n",
       "       [ 0,  0,  0,  0,  0, 33]])"
      ]
     },
     "execution_count": 16,
     "metadata": {},
     "output_type": "execute_result"
    }
   ],
   "source": [
    "# Create diagonal matrices as you wish\n",
    "np.diag([1,6,3,8,9,33])"
   ]
  },
  {
   "cell_type": "code",
   "execution_count": 17,
   "id": "de314480",
   "metadata": {},
   "outputs": [
    {
     "data": {
      "text/plain": [
       "array([[ 1.,  0.,  0.,  0.,  0.],\n",
       "       [ 0., -2.,  0.,  0.,  0.],\n",
       "       [ 0.,  0., -5.,  0.,  0.],\n",
       "       [ 0.,  0.,  0., -5.,  0.],\n",
       "       [ 0.,  0.,  0.,  0., -5.]])"
      ]
     },
     "execution_count": 17,
     "metadata": {},
     "output_type": "execute_result"
    }
   ],
   "source": [
    "# Create random diagonal values\n",
    "B = np.diag(np.round(5*np.random.randn(5)))\n",
    "B"
   ]
  },
  {
   "cell_type": "code",
   "execution_count": 18,
   "id": "fac1b2ad",
   "metadata": {},
   "outputs": [
    {
     "data": {
      "text/plain": [
       "array([[ 1. ,  0. ,  0. ,  0. ,  0. ],\n",
       "       [-0. , -0.5, -0. , -0. , -0. ],\n",
       "       [-0. , -0. , -0.2, -0. , -0. ],\n",
       "       [-0. , -0. , -0. , -0.2, -0. ],\n",
       "       [-0. , -0. , -0. , -0. , -0.2]])"
      ]
     },
     "execution_count": 18,
     "metadata": {},
     "output_type": "execute_result"
    }
   ],
   "source": [
    "np.linalg.inv(B)"
   ]
  },
  {
   "cell_type": "markdown",
   "id": "fb718075",
   "metadata": {},
   "source": [
    "## Left- and Right-Inverse"
   ]
  },
  {
   "cell_type": "code",
   "execution_count": 19,
   "id": "60268371",
   "metadata": {},
   "outputs": [
    {
     "name": "stdout",
     "output_type": "stream",
     "text": [
      "[[13.24141643  3.81447126 -1.21933176]\n",
      " [ 3.81447126  1.43643758 -0.83870291]\n",
      " [-1.21933176 -0.83870291  5.52841683]]\n",
      "\n",
      "[[ 0.75512148  0.13680724  1.01627301 -0.88418669  0.11380077 -2.61093581]\n",
      " [ 0.13680724  0.8832307   0.24924615  1.50460535  1.56483022  0.31493588]\n",
      " [ 1.01627301  0.24924615  1.52247231 -0.94007582  0.24472107 -3.31494734]\n",
      " [-0.88418669  1.50460535 -0.94007582  4.36586399  2.84035047  4.70015242]\n",
      " [ 0.11380077  1.56483022  0.24472107  2.84035047  2.79932619  1.0001748 ]\n",
      " [-2.61093581  0.31493588 -3.31494734  4.70015242  1.0001748   9.88025617]]\n"
     ]
    }
   ],
   "source": [
    "# m>n for Left Inverse\n",
    "# m<n for right inverse\n",
    "m = 6\n",
    "n = 3\n",
    "A = np.random.randn(m,n)\n",
    "\n",
    "# A transpose A\n",
    "AtA = A.T @ A\n",
    "# A A transpose\n",
    "AAt = A @ A.T\n",
    "\n",
    "print(AtA)\n",
    "print()\n",
    "print(AAt)"
   ]
  },
  {
   "cell_type": "code",
   "execution_count": 20,
   "id": "0d0e852d",
   "metadata": {},
   "outputs": [
    {
     "name": "stdout",
     "output_type": "stream",
     "text": [
      "The rank of AtA is: 3\n",
      "The rank of AAt is: 3\n"
     ]
    }
   ],
   "source": [
    "print(\"The rank of AtA is:\", np.linalg.matrix_rank(AtA))\n",
    "print(\"The rank of AAt is:\", np.linalg.matrix_rank(AAt))"
   ]
  },
  {
   "cell_type": "code",
   "execution_count": 21,
   "id": "e82d3f0d",
   "metadata": {},
   "outputs": [
    {
     "name": "stdout",
     "output_type": "stream",
     "text": [
      "(3, 6)\n"
     ]
    }
   ],
   "source": [
    "# Left Inverse\n",
    "Aleft = np.linalg.inv(AtA)@A.T\n",
    "print(Aleft.shape)"
   ]
  },
  {
   "cell_type": "code",
   "execution_count": 22,
   "id": "07cf0774",
   "metadata": {},
   "outputs": [
    {
     "name": "stdout",
     "output_type": "stream",
     "text": [
      "(3, 6)\n"
     ]
    }
   ],
   "source": [
    "Aright = A.T @ np.linalg.inv(AAt)\n",
    "print(Aright.shape)"
   ]
  },
  {
   "cell_type": "code",
   "execution_count": 23,
   "id": "bf9f59d6",
   "metadata": {},
   "outputs": [
    {
     "name": "stdout",
     "output_type": "stream",
     "text": [
      "(3, 3)\n",
      "\n",
      "(6, 6)\n"
     ]
    }
   ],
   "source": [
    "I_left = Aleft @ A\n",
    "I_right = A @ Aright\n",
    "print(I_left.shape)\n",
    "print()\n",
    "print(I_right.shape)"
   ]
  },
  {
   "cell_type": "code",
   "execution_count": 24,
   "id": "24545c65",
   "metadata": {},
   "outputs": [
    {
     "name": "stdout",
     "output_type": "stream",
     "text": [
      "[[ 1.00000000e+00 -7.90896476e-17  1.64201278e-16]\n",
      " [-1.72756184e-15  1.00000000e+00 -8.70645405e-16]\n",
      " [-7.48825971e-17  1.51256267e-17  1.00000000e+00]]\n"
     ]
    }
   ],
   "source": [
    "# Check if we can obtain identity\n",
    "AtA_inv = np.linalg.inv(AtA)\n",
    "I_AtA = AtA_inv @ AtA\n",
    "print(I_AtA)"
   ]
  },
  {
   "cell_type": "code",
   "execution_count": 25,
   "id": "b63b5cc7",
   "metadata": {},
   "outputs": [
    {
     "name": "stdout",
     "output_type": "stream",
     "text": [
      "[[ 3.          1.          3.         -1.125       1.         -8.        ]\n",
      " [-1.         -2.         -1.         -4.         -4.          2.5625    ]\n",
      " [-0.25       -0.16992188  0.5         0.         -0.90625     0.        ]\n",
      " [ 0.25        0.125       0.25        0.8125      0.875      -0.5       ]\n",
      " [-0.10839844  0.5625     -0.0625      0.0625      1.703125   -0.6875    ]\n",
      " [ 0.          0.09375     0.          0.         -0.21875     1.        ]]\n"
     ]
    }
   ],
   "source": [
    "# It fails because the rank of matrix is 3\n",
    "AAt_inv = np.linalg.inv(AAt)\n",
    "I_AAt = AAt_inv @ AAt\n",
    "print(I_AAt)"
   ]
  },
  {
   "cell_type": "code",
   "execution_count": 26,
   "id": "0f7048a8",
   "metadata": {},
   "outputs": [
    {
     "data": {
      "image/png": "[encoded data removed]",
      "text/plain": [
       "<Figure size 432x288 with 7 Axes>"
      ]
     },
     "metadata": {
      "needs_background": "light"
     },
     "output_type": "display_data"
    }
   ],
   "source": [
    "# Plot\n",
    "plt.subplot(331)\n",
    "plt.imshow(A), plt.axis('off')\n",
    "plt.title('A')\n",
    "\n",
    "plt.subplot(332)\n",
    "plt.imshow(AtA), plt.axis('off')\n",
    "plt.title('A$^T$A')\n",
    "\n",
    "plt.subplot(333)\n",
    "plt.imshow(AAt), plt.axis('off')\n",
    "plt.title('AA$^T$')\n",
    "\n",
    "plt.subplot(335)\n",
    "plt.imshow(Aleft), plt.axis('off')\n",
    "plt.title('$(A^TA)^{-1}A^T$')\n",
    "\n",
    "plt.subplot(336)\n",
    "plt.imshow(Aright), plt.axis('off')\n",
    "plt.title('$A^T(AA^T)^{-1}$')\n",
    "\n",
    "plt.subplot(338)\n",
    "plt.imshow(I_left), plt.axis('off')\n",
    "plt.title('[ $(A^TA)^{-1}A^T ]$  A')\n",
    "\n",
    "plt.subplot(339)\n",
    "plt.imshow(I_right), plt.axis('off')\n",
    "plt.title('A  [ $A^T(AA^T)^{-1}$ ]')\n",
    "\n",
    "plt.show()"
   ]
  },
  {
   "cell_type": "markdown",
   "id": "ef5d582d",
   "metadata": {},
   "source": [
    "## PseudoInverse"
   ]
  },
  {
   "cell_type": "code",
   "execution_count": 27,
   "id": "1561473f",
   "metadata": {},
   "outputs": [
    {
     "data": {
      "image/png": "[encoded data removed]",
      "text/plain": [
       "<Figure size 432x288 with 3 Axes>"
      ]
     },
     "metadata": {
      "needs_background": "light"
     },
     "output_type": "display_data"
    }
   ],
   "source": [
    "# pseudoinverse of rectangular matrix A\n",
    "\n",
    "pseudoInvA = np.linalg.pinv(A)\n",
    "\n",
    "plt.subplot(131)\n",
    "plt.imshow(A), plt.axis('off')\n",
    "plt.title('A')\n",
    "\n",
    "plt.subplot(132)\n",
    "plt.imshow(pseudoInvA), plt.axis('off')\n",
    "plt.title('Pseudoinverse of A')\n",
    "\n",
    "plt.subplot(133)\n",
    "plt.imshow(pseudoInvA@A), plt.axis('off')\n",
    "plt.title('A$^*$A')\n",
    "\n",
    "plt.show()"
   ]
  },
  {
   "cell_type": "code",
   "execution_count": 28,
   "id": "281957ff",
   "metadata": {},
   "outputs": [
    {
     "name": "stdout",
     "output_type": "stream",
     "text": [
      "rank = 49\n"
     ]
    }
   ],
   "source": [
    " # create random matrix\n",
    "n = 50\n",
    "A = np.random.randn(n,n)\n",
    "\n",
    "# make rank deficient by repeating a column\n",
    "A[:,n-1] = A[:,n-2]\n",
    "\n",
    "# rank of A!\n",
    "print('rank =',np.linalg.matrix_rank(A))"
   ]
  },
  {
   "cell_type": "code",
   "execution_count": 29,
   "id": "2e28c9f2",
   "metadata": {},
   "outputs": [
    {
     "data": {
      "image/png": "[encoded data removed]",
      "text/plain": [
       "<Figure size 432x288 with 4 Axes>"
      ]
     },
     "metadata": {
      "needs_background": "light"
     },
     "output_type": "display_data"
    }
   ],
   "source": [
    "# compute the pseudoinverse\n",
    "Ai = np.linalg.pinv(A)\n",
    "# and show the matrices\n",
    "plt.subplot(221)\n",
    "plt.imshow(A), plt.axis('off')\n",
    "plt.title('A')\n",
    "\n",
    "plt.subplot(222)\n",
    "plt.imshow(Ai), plt.axis('off')\n",
    "plt.title('A$^*$')\n",
    "\n",
    "plt.subplot(223)\n",
    "plt.imshow(Ai@A), plt.axis('off')\n",
    "plt.title('A$^*$A')\n",
    "\n",
    "plt.subplot(224)\n",
    "plt.imshow(A@Ai), plt.axis('off')\n",
    "plt.title('AA$^*$')\n",
    "\n",
    "plt.show()"
   ]
  },
  {
   "cell_type": "markdown",
   "id": "1b82b864",
   "metadata": {},
   "source": [
    "## PseudoInverse and Inverse Same for Invertible Matrices"
   ]
  },
  {
   "cell_type": "code",
   "execution_count": 30,
   "id": "e71194ba",
   "metadata": {},
   "outputs": [
    {
     "name": "stdout",
     "output_type": "stream",
     "text": [
      "[[-0.043  0.189  0.151 -0.266  0.171]\n",
      " [-0.079  0.305  0.169  0.314 -0.021]\n",
      " [ 0.051 -0.592  0.369  0.208 -0.281]\n",
      " [-0.476  0.393 -0.653 -0.066  1.023]\n",
      " [-0.096 -0.263  0.375 -0.155 -0.762]]\n",
      "\n",
      "[[-0.043  0.189  0.151 -0.266  0.171]\n",
      " [-0.079  0.305  0.169  0.314 -0.021]\n",
      " [ 0.051 -0.592  0.369  0.208 -0.281]\n",
      " [-0.476  0.393 -0.653 -0.066  1.023]\n",
      " [-0.096 -0.263  0.375 -0.155 -0.762]]\n",
      "\n",
      "[[ 0. -0.  0.  0.  0.]\n",
      " [-0.  0. -0.  0. -0.]\n",
      " [ 0.  0.  0. -0. -0.]\n",
      " [-0.  0. -0.  0.  0.]\n",
      " [-0. -0.  0.  0.  0.]]\n"
     ]
    }
   ],
   "source": [
    "# pseudoinverse of rectangular matrix A\n",
    "m = 5\n",
    "A = np.random.randn(m,m)\n",
    "\n",
    "AinvF = np.linalg.inv(A)\n",
    "AinvP = np.linalg.pinv(A)\n",
    "\n",
    "print(np.round(AinvF,3))\n",
    "print()\n",
    "print(np.round(AinvP,3))\n",
    "print()\n",
    "print(np.round(AinvP - AinvF, 3))"
   ]
  }
 ],
 "metadata": {
  "kernelspec": {
   "display_name": "Python 3 (ipykernel)",
   "language": "python",
   "name": "python3"
  },
  "language_info": {
   "codemirror_mode": {
    "name": "ipython",
    "version": 3
   },
   "file_extension": ".py",
   "mimetype": "text/x-python",
   "name": "python",
   "nbconvert_exporter": "python",
   "pygments_lexer": "ipython3",
   "version": "3.9.7"
  }
 },
 "nbformat": 4,
 "nbformat_minor": 5
}
