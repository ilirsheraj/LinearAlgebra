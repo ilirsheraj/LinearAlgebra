{
 "cells": [
  {
   "cell_type": "markdown",
   "id": "64620e10",
   "metadata": {},
   "source": [
    "# Section02_Matrices"
   ]
  },
  {
   "cell_type": "code",
   "execution_count": 1,
   "id": "d8767b56",
   "metadata": {},
   "outputs": [],
   "source": [
    "import numpy as np"
   ]
  },
  {
   "cell_type": "markdown",
   "id": "10a670ed",
   "metadata": {},
   "source": [
    "## Types of Matrices"
   ]
  },
  {
   "cell_type": "code",
   "execution_count": 2,
   "id": "e94d73f9",
   "metadata": {},
   "outputs": [
    {
     "name": "stdout",
     "output_type": "stream",
     "text": [
      "[[-0.96246375 -1.72008639  0.77045398  0.02128926 -0.29224334]\n",
      " [-0.26895609  0.18481043 -0.4389134  -1.88264574 -0.01040493]\n",
      " [-0.45968276  1.02954043 -0.67524064 -0.41323925 -1.24332614]\n",
      " [-0.00771975 -0.01302362  0.00299013 -1.77813366 -0.82818233]\n",
      " [-0.42971523 -0.64202428 -0.17656742 -0.91503591 -0.90558717]]\n"
     ]
    }
   ],
   "source": [
    "# Square Matrix\n",
    "S = np.random.randn(5,5)\n",
    "print(S)"
   ]
  },
  {
   "cell_type": "code",
   "execution_count": 3,
   "id": "fb6a5234",
   "metadata": {},
   "outputs": [
    {
     "name": "stdout",
     "output_type": "stream",
     "text": [
      "[[-0.4266198   0.99012406]\n",
      " [-1.04807432 -0.82124092]\n",
      " [ 0.84360835 -0.6774923 ]\n",
      " [ 0.62800479 -0.30564061]\n",
      " [ 0.68935645 -0.08948812]]\n"
     ]
    }
   ],
   "source": [
    "# Rectangular Matrix\n",
    "R = np.random.randn(5,2)\n",
    "print(R)"
   ]
  },
  {
   "cell_type": "code",
   "execution_count": 4,
   "id": "6863dfc4",
   "metadata": {},
   "outputs": [
    {
     "name": "stdout",
     "output_type": "stream",
     "text": [
      "[[1. 0. 0.]\n",
      " [0. 1. 0.]\n",
      " [0. 0. 1.]]\n"
     ]
    }
   ],
   "source": [
    "# Identity Matrix\n",
    "I = np.eye(3)\n",
    "print(I)"
   ]
  },
  {
   "cell_type": "code",
   "execution_count": 5,
   "id": "108540c1",
   "metadata": {},
   "outputs": [
    {
     "name": "stdout",
     "output_type": "stream",
     "text": [
      "[[0. 0. 0. 0.]\n",
      " [0. 0. 0. 0.]\n",
      " [0. 0. 0. 0.]\n",
      " [0. 0. 0. 0.]]\n"
     ]
    }
   ],
   "source": [
    "# Zero Matrix: Tupple as input\n",
    "Z = np.zeros((4,4))\n",
    "print(Z)"
   ]
  },
  {
   "cell_type": "code",
   "execution_count": 6,
   "id": "ffd5de55",
   "metadata": {},
   "outputs": [
    {
     "name": "stdout",
     "output_type": "stream",
     "text": [
      "[[0.+0.j 0.+0.j 0.+0.j 0.+0.j]\n",
      " [0.+0.j 0.+0.j 0.+0.j 0.+0.j]\n",
      " [0.+0.j 0.+0.j 0.+0.j 0.+0.j]\n",
      " [0.+0.j 0.+0.j 0.+0.j 0.+0.j]]\n"
     ]
    }
   ],
   "source": [
    "# Zero matrix for complex numbers\n",
    "Z = np.zeros((4,4), dtype = complex)\n",
    "print(Z)"
   ]
  },
  {
   "cell_type": "code",
   "execution_count": 7,
   "id": "e1472676",
   "metadata": {},
   "outputs": [
    {
     "name": "stdout",
     "output_type": "stream",
     "text": [
      "[[1 0 0 0 0]\n",
      " [0 2 0 0 0]\n",
      " [0 0 3 0 0]\n",
      " [0 0 0 5 0]\n",
      " [0 0 0 0 2]]\n"
     ]
    }
   ],
   "source": [
    "# Diagonal Matrix\n",
    "D = np.diag([1, 2, 3, 5, 2])\n",
    "print(D)"
   ]
  },
  {
   "cell_type": "code",
   "execution_count": 8,
   "id": "6a365a83",
   "metadata": {},
   "outputs": [
    {
     "name": "stdout",
     "output_type": "stream",
     "text": [
      "[[-2.61895555  0.3613667   0.75679752  0.30633308 -1.16839028]\n",
      " [ 0.25486216  0.34899015 -1.97995028  0.73473176 -1.15874902]\n",
      " [-0.23457514  1.89955683 -1.37803667  1.9633485  -0.95923191]\n",
      " [-2.14934278  0.27007118 -1.46639644 -1.02024686 -0.09340059]\n",
      " [ 0.01571529 -0.06619766  0.52104262  0.71775523  0.92120492]]\n"
     ]
    }
   ],
   "source": [
    "# Triangular matrices from full matrix\n",
    "S = np.random.randn(5,5)\n",
    "print(S)"
   ]
  },
  {
   "cell_type": "code",
   "execution_count": 9,
   "id": "22b27365",
   "metadata": {},
   "outputs": [
    {
     "name": "stdout",
     "output_type": "stream",
     "text": [
      "[[-2.61895555  0.3613667   0.75679752  0.30633308 -1.16839028]\n",
      " [ 0.          0.34899015 -1.97995028  0.73473176 -1.15874902]\n",
      " [ 0.          0.         -1.37803667  1.9633485  -0.95923191]\n",
      " [ 0.          0.          0.         -1.02024686 -0.09340059]\n",
      " [ 0.          0.          0.          0.          0.92120492]]\n"
     ]
    }
   ],
   "source": [
    "# Upper triangular\n",
    "U = np.triu(S)\n",
    "print(U)"
   ]
  },
  {
   "cell_type": "code",
   "execution_count": 10,
   "id": "48eece71",
   "metadata": {},
   "outputs": [
    {
     "name": "stdout",
     "output_type": "stream",
     "text": [
      "[[-2.61895555  0.          0.          0.          0.        ]\n",
      " [ 0.25486216  0.34899015  0.          0.          0.        ]\n",
      " [-0.23457514  1.89955683 -1.37803667  0.          0.        ]\n",
      " [-2.14934278  0.27007118 -1.46639644 -1.02024686  0.        ]\n",
      " [ 0.01571529 -0.06619766  0.52104262  0.71775523  0.92120492]]\n"
     ]
    }
   ],
   "source": [
    "# Lower Triangular\n",
    "L = np.tril(S)\n",
    "print(L)"
   ]
  },
  {
   "cell_type": "code",
   "execution_count": 11,
   "id": "56b0bf4c",
   "metadata": {},
   "outputs": [
    {
     "name": "stdout",
     "output_type": "stream",
     "text": [
      "[[-0.02929801  0.02529126]\n",
      " [-0.61604756  0.51734347]\n",
      " [-1.8868881  -0.24104273]]\n"
     ]
    }
   ],
   "source": [
    "# Concatenate Matrices (sizes must match!)\n",
    "A = np.random.randn(3,2)\n",
    "print(A)"
   ]
  },
  {
   "cell_type": "code",
   "execution_count": 12,
   "id": "05d9a64f",
   "metadata": {},
   "outputs": [
    {
     "name": "stdout",
     "output_type": "stream",
     "text": [
      "[[ 0.70846679  1.74603369  0.46432743 -2.08533446]\n",
      " [ 0.7131712  -0.95446717  0.58189096 -0.38988547]\n",
      " [ 1.31698133  1.05299473 -0.63991068 -1.2368758 ]]\n"
     ]
    }
   ],
   "source": [
    "B = np.random.randn(3,4)\n",
    "print(B)"
   ]
  },
  {
   "cell_type": "code",
   "execution_count": 13,
   "id": "34a7d276",
   "metadata": {},
   "outputs": [
    {
     "name": "stdout",
     "output_type": "stream",
     "text": [
      "[[-0.02929801  0.02529126  0.70846679  1.74603369  0.46432743 -2.08533446]\n",
      " [-0.61604756  0.51734347  0.7131712  -0.95446717  0.58189096 -0.38988547]\n",
      " [-1.8868881  -0.24104273  1.31698133  1.05299473 -0.63991068 -1.2368758 ]]\n"
     ]
    }
   ],
   "source": [
    "C = np.concatenate((A,B), axis = 1)\n",
    "print(C)"
   ]
  },
  {
   "cell_type": "markdown",
   "id": "2ff7580b",
   "metadata": {},
   "source": [
    "## Matrix Addition and Subtraction"
   ]
  },
  {
   "cell_type": "code",
   "execution_count": 14,
   "id": "7d4e0ff6",
   "metadata": {},
   "outputs": [],
   "source": [
    "A = np.random.randn(5,4)\n",
    "B = np.random.randn(5,3)\n",
    "C = np.random.randn(5,4)"
   ]
  },
  {
   "cell_type": "code",
   "execution_count": 15,
   "id": "cdb6ae77",
   "metadata": {},
   "outputs": [],
   "source": [
    "# Add A & B\n",
    "# A + B"
   ]
  },
  {
   "cell_type": "code",
   "execution_count": 16,
   "id": "387be03f",
   "metadata": {},
   "outputs": [],
   "source": [
    "# Add B + C\n",
    "#B + C"
   ]
  },
  {
   "cell_type": "code",
   "execution_count": 17,
   "id": "bc349c13",
   "metadata": {},
   "outputs": [
    {
     "data": {
      "text/plain": [
       "array([[-0.54808387,  0.79539661, -1.28476718, -2.03106064],\n",
       "       [ 0.36329764, -0.97707471,  1.33053193,  1.93864204],\n",
       "       [ 1.1107575 , -1.24161689,  0.75363376, -2.67650704],\n",
       "       [ 1.79468712, -0.25570537, -0.37849101, -2.41365892],\n",
       "       [-2.15828139,  1.13875521,  0.49762436, -0.91744722]])"
      ]
     },
     "execution_count": 17,
     "metadata": {},
     "output_type": "execute_result"
    }
   ],
   "source": [
    "# Add A + C\n",
    "A + C"
   ]
  },
  {
   "cell_type": "code",
   "execution_count": 18,
   "id": "78e3d32f",
   "metadata": {},
   "outputs": [
    {
     "name": "stdout",
     "output_type": "stream",
     "text": [
      "[[ 1.33314953 -0.29258705  0.60844665  0.38889213  0.62640369]\n",
      " [ 0.0132283  -0.39097495 -0.61963929 -0.8292714   0.6055549 ]\n",
      " [-0.89043006 -0.25004752 -0.43612179 -0.25340628 -0.27328172]\n",
      " [-1.21014845  0.65661331  0.60334456  0.36993717 -0.39184488]\n",
      " [ 1.35099285  0.53550638  2.68309899 -1.23524814 -0.73672113]]\n"
     ]
    }
   ],
   "source": [
    "# Shifting a msatrix\n",
    "l = 0.3\n",
    "N = 5\n",
    "D = np.random.randn(N, N)\n",
    "print(D)"
   ]
  },
  {
   "cell_type": "code",
   "execution_count": 19,
   "id": "80569fd3",
   "metadata": {},
   "outputs": [
    {
     "name": "stdout",
     "output_type": "stream",
     "text": [
      "[[ 1.63314953 -0.29258705  0.60844665  0.38889213  0.62640369]\n",
      " [ 0.0132283  -0.09097495 -0.61963929 -0.8292714   0.6055549 ]\n",
      " [-0.89043006 -0.25004752 -0.13612179 -0.25340628 -0.27328172]\n",
      " [-1.21014845  0.65661331  0.60334456  0.66993717 -0.39184488]\n",
      " [ 1.35099285  0.53550638  2.68309899 -1.23524814 -0.43672113]]\n"
     ]
    }
   ],
   "source": [
    "Ds = D + l*np.eye(N)\n",
    "print(Ds)"
   ]
  },
  {
   "cell_type": "code",
   "execution_count": 20,
   "id": "35d04a3f",
   "metadata": {},
   "outputs": [
    {
     "name": "stdout",
     "output_type": "stream",
     "text": [
      "[[ 2  4]\n",
      " [ 4 10]]\n",
      "[[ 2  4]\n",
      " [ 4 10]]\n"
     ]
    }
   ],
   "source": [
    "# Scalar Multiplication\n",
    "M = np.array([[1, 2], [2, 5]])\n",
    "s = 2\n",
    "print(M*s)\n",
    "print(s*M)"
   ]
  },
  {
   "cell_type": "markdown",
   "id": "34bdc177",
   "metadata": {},
   "source": [
    "## Coding Challenge"
   ]
  },
  {
   "cell_type": "code",
   "execution_count": 21,
   "id": "a54e9728",
   "metadata": {},
   "outputs": [],
   "source": [
    "# Question: Test for some random MXN matrices whether s(A+B) = aA + sB\n",
    "# define matrix sizes\n",
    "m = 7\n",
    "n = 5\n",
    "\n",
    "# create two random matrices\n",
    "A = np.random.randn(m, n)\n",
    "B = np.random.randn(m, n)\n",
    "\n",
    "# define a random scalar\n",
    "s = np.random.randn()"
   ]
  },
  {
   "cell_type": "code",
   "execution_count": 22,
   "id": "a04ad0ae",
   "metadata": {},
   "outputs": [],
   "source": [
    "# Compute both sides of the equation"
   ]
  },
  {
   "cell_type": "code",
   "execution_count": 23,
   "id": "f9878d0d",
   "metadata": {},
   "outputs": [
    {
     "name": "stdout",
     "output_type": "stream",
     "text": [
      "[[ 0.05892387 -0.03301921  0.30651892 -0.53459055 -0.07476617]\n",
      " [-0.73231557  0.09237637  0.4132418  -0.00329444 -0.20214573]\n",
      " [ 0.41545159 -0.45339671 -0.1359277   0.66050264 -0.3825436 ]\n",
      " [-0.33680359  0.08482693  0.26078525  0.29131337 -0.63355073]\n",
      " [ 0.38029212 -0.71948682  0.21851926  0.36495559 -0.46877725]\n",
      " [-0.07825128  0.52668839  0.57696737  0.78822945  0.68903148]\n",
      " [ 0.23695308 -0.25311495  0.10684189 -0.23396193  0.17414751]]\n",
      "[[ 0.05892387 -0.03301921  0.30651892 -0.53459055 -0.07476617]\n",
      " [-0.73231557  0.09237637  0.4132418  -0.00329444 -0.20214573]\n",
      " [ 0.41545159 -0.45339671 -0.1359277   0.66050264 -0.3825436 ]\n",
      " [-0.33680359  0.08482693  0.26078525  0.29131337 -0.63355073]\n",
      " [ 0.38029212 -0.71948682  0.21851926  0.36495559 -0.46877725]\n",
      " [-0.07825128  0.52668839  0.57696737  0.78822945  0.68903148]\n",
      " [ 0.23695308 -0.25311495  0.10684189 -0.23396193  0.17414751]]\n"
     ]
    }
   ],
   "source": [
    "res1 = s*(A + B)\n",
    "res2 = s*A + s*B\n",
    "print(res1)\n",
    "print(res2)"
   ]
  },
  {
   "cell_type": "code",
   "execution_count": 24,
   "id": "5000978d",
   "metadata": {},
   "outputs": [
    {
     "data": {
      "text/plain": [
       "array([[ 0.00000000e+00,  0.00000000e+00,  0.00000000e+00,\n",
       "         0.00000000e+00, -1.38777878e-17],\n",
       "       [ 0.00000000e+00,  0.00000000e+00,  0.00000000e+00,\n",
       "        -4.33680869e-19,  2.77555756e-17],\n",
       "       [ 0.00000000e+00,  5.55111512e-17,  0.00000000e+00,\n",
       "         1.11022302e-16,  0.00000000e+00],\n",
       "       [ 0.00000000e+00,  0.00000000e+00,  5.55111512e-17,\n",
       "         0.00000000e+00,  1.11022302e-16],\n",
       "       [ 0.00000000e+00,  0.00000000e+00, -2.77555756e-17,\n",
       "         5.55111512e-17, -5.55111512e-17],\n",
       "       [ 0.00000000e+00, -1.11022302e-16,  0.00000000e+00,\n",
       "         0.00000000e+00,  0.00000000e+00],\n",
       "       [ 0.00000000e+00,  0.00000000e+00,  1.38777878e-17,\n",
       "         0.00000000e+00, -2.77555756e-17]])"
      ]
     },
     "execution_count": 24,
     "metadata": {},
     "output_type": "execute_result"
    }
   ],
   "source": [
    "# SOme small differences due to rounding, otherwise its zero\n",
    "res1 - res2"
   ]
  },
  {
   "cell_type": "markdown",
   "id": "e2ec53fe",
   "metadata": {},
   "source": [
    "## Matrix Transposition"
   ]
  },
  {
   "cell_type": "code",
   "execution_count": 25,
   "id": "a0090716",
   "metadata": {},
   "outputs": [
    {
     "name": "stdout",
     "output_type": "stream",
     "text": [
      "[[1 2 3]\n",
      " [2 3 4]]\n"
     ]
    }
   ],
   "source": [
    "# Create a matrix\n",
    "M = np.array([[1, 2, 3],\n",
    "             [2, 3, 4]])\n",
    "print(M)"
   ]
  },
  {
   "cell_type": "code",
   "execution_count": 26,
   "id": "f427c041",
   "metadata": {},
   "outputs": [
    {
     "name": "stdout",
     "output_type": "stream",
     "text": [
      "[[1 2]\n",
      " [2 3]\n",
      " [3 4]]\n"
     ]
    }
   ],
   "source": [
    "print(M.T)"
   ]
  },
  {
   "cell_type": "code",
   "execution_count": 27,
   "id": "4872632f",
   "metadata": {},
   "outputs": [
    {
     "name": "stdout",
     "output_type": "stream",
     "text": [
      "[[1 2 3]\n",
      " [2 3 4]]\n"
     ]
    }
   ],
   "source": [
    "print(M.T.T)"
   ]
  },
  {
   "cell_type": "code",
   "execution_count": 28,
   "id": "6fa3feda",
   "metadata": {},
   "outputs": [
    {
     "name": "stdout",
     "output_type": "stream",
     "text": [
      "[[1 2]\n",
      " [2 3]\n",
      " [3 4]]\n"
     ]
    }
   ],
   "source": [
    "print(np.transpose(M))"
   ]
  },
  {
   "cell_type": "code",
   "execution_count": 29,
   "id": "7cc5a8da",
   "metadata": {},
   "outputs": [
    {
     "name": "stdout",
     "output_type": "stream",
     "text": [
      "[[4.+1.j 3.+0.j 2.-4.j]]\n"
     ]
    }
   ],
   "source": [
    "# Be careful with complex matrices\n",
    "C = np.array([[4+1j, 3, 2-4j]])\n",
    "print(C)"
   ]
  },
  {
   "cell_type": "code",
   "execution_count": 30,
   "id": "4882adb1",
   "metadata": {},
   "outputs": [
    {
     "name": "stdout",
     "output_type": "stream",
     "text": [
      "[[4.+1.j]\n",
      " [3.+0.j]\n",
      " [2.-4.j]]\n"
     ]
    }
   ],
   "source": [
    "print(C.T)"
   ]
  },
  {
   "cell_type": "code",
   "execution_count": 31,
   "id": "dfe8b3f7",
   "metadata": {},
   "outputs": [
    {
     "name": "stdout",
     "output_type": "stream",
     "text": [
      "[[4.+1.j]\n",
      " [3.+0.j]\n",
      " [2.-4.j]]\n"
     ]
    }
   ],
   "source": [
    "print(np.transpose(C))"
   ]
  },
  {
   "cell_type": "code",
   "execution_count": 32,
   "id": "e6c64a62",
   "metadata": {},
   "outputs": [
    {
     "name": "stdout",
     "output_type": "stream",
     "text": [
      "[[4.-1.j]\n",
      " [3.-0.j]\n",
      " [2.+4.j]]\n"
     ]
    }
   ],
   "source": [
    "# Hemitian transposition\n",
    "print(np.matrix(C).H)"
   ]
  },
  {
   "cell_type": "markdown",
   "id": "1a049a70",
   "metadata": {},
   "source": [
    "## Diagonal and Trace"
   ]
  },
  {
   "cell_type": "code",
   "execution_count": 33,
   "id": "bf0f2c49",
   "metadata": {},
   "outputs": [
    {
     "name": "stdout",
     "output_type": "stream",
     "text": [
      "[[ -3.   2.   0.   6.]\n",
      " [ 12.   1.  -3. -14.]\n",
      " [  2.   2.  10.  -3.]\n",
      " [ -8.  -5.  -7. -11.]]\n"
     ]
    }
   ],
   "source": [
    "# define a matrix\n",
    "M = np.round(5* np.random.randn(4,4))\n",
    "print(M)"
   ]
  },
  {
   "cell_type": "code",
   "execution_count": 34,
   "id": "d4628b2e",
   "metadata": {},
   "outputs": [
    {
     "name": "stdout",
     "output_type": "stream",
     "text": [
      "[ -3.   1.  10. -11.]\n"
     ]
    }
   ],
   "source": [
    "# extract the diagonal\n",
    "d = np.diag(M)\n",
    "print(d)"
   ]
  },
  {
   "cell_type": "code",
   "execution_count": 35,
   "id": "95d329d3",
   "metadata": {},
   "outputs": [
    {
     "name": "stdout",
     "output_type": "stream",
     "text": [
      "[[ -3.   0.   0.   0.]\n",
      " [  0.   1.   0.   0.]\n",
      " [  0.   0.  10.   0.]\n",
      " [  0.   0.   0. -11.]]\n"
     ]
    }
   ],
   "source": [
    "# get a diagonal matrix as output\n",
    "D = np.diag(d)\n",
    "print(D)"
   ]
  },
  {
   "cell_type": "code",
   "execution_count": 36,
   "id": "055a4539",
   "metadata": {},
   "outputs": [
    {
     "name": "stdout",
     "output_type": "stream",
     "text": [
      "-3.0\n"
     ]
    }
   ],
   "source": [
    "# Trace\n",
    "tr = np.trace(M)\n",
    "print(tr)"
   ]
  },
  {
   "cell_type": "code",
   "execution_count": 37,
   "id": "68aee52f",
   "metadata": {},
   "outputs": [
    {
     "name": "stdout",
     "output_type": "stream",
     "text": [
      "-3.0\n"
     ]
    }
   ],
   "source": [
    "# trace as sum\n",
    "tr2 = sum(np.diag(M))\n",
    "print(tr2)"
   ]
  },
  {
   "cell_type": "markdown",
   "id": "72bdd06d",
   "metadata": {},
   "source": [
    "## Code Challenge"
   ]
  },
  {
   "cell_type": "code",
   "execution_count": 38,
   "id": "7477d5e9",
   "metadata": {},
   "outputs": [],
   "source": [
    "# Is trace a linear operator? Is it closed under addition and scalar multiplications\n",
    "## determine the relationship between tr(A) + tr(B) and tr(A+B)\n",
    "## determine the relationship between tr(l*A) and l*tr(A)\n",
    "### if these conditions true, then it is a linear operator"
   ]
  },
  {
   "cell_type": "code",
   "execution_count": 39,
   "id": "841c0988",
   "metadata": {},
   "outputs": [
    {
     "name": "stdout",
     "output_type": "stream",
     "text": [
      "-6.0\n",
      "-6.0\n"
     ]
    }
   ],
   "source": [
    "# COndition 1\n",
    "m = 5\n",
    "A = np.round(4* np.random.randn(m, m))\n",
    "B = np.round(4* np.random.randn(m, m))\n",
    "res1 = np.trace(A) + np.trace(B)\n",
    "res2 = np.trace(A + B)\n",
    "print(res1)\n",
    "print(res2)"
   ]
  },
  {
   "cell_type": "code",
   "execution_count": 40,
   "id": "78b77953",
   "metadata": {},
   "outputs": [
    {
     "data": {
      "text/plain": [
       "True"
      ]
     },
     "execution_count": 40,
     "metadata": {},
     "output_type": "execute_result"
    }
   ],
   "source": [
    "# Condition 2\n",
    "l = np.random.randn()\n",
    "np.trace(l*A) == l*np.trace(A)"
   ]
  },
  {
   "cell_type": "markdown",
   "id": "1e6c3877",
   "metadata": {},
   "source": [
    "## Broadcasting Matrix Arithmetic"
   ]
  },
  {
   "cell_type": "code",
   "execution_count": 41,
   "id": "ef5182a9",
   "metadata": {},
   "outputs": [
    {
     "name": "stdout",
     "output_type": "stream",
     "text": [
      "[[ 1  4  7 10]\n",
      " [ 2  5  8 11]\n",
      " [ 3  6  9 12]]\n"
     ]
    }
   ],
   "source": [
    "# Create a matrix\n",
    "A = np.reshape(np.arange(1, 13), (3,4), \"F\") # F = column, C = row\n",
    "# C is the default, like in R\n",
    "print(A)"
   ]
  },
  {
   "cell_type": "code",
   "execution_count": 42,
   "id": "3b0f3cef",
   "metadata": {},
   "outputs": [
    {
     "name": "stdout",
     "output_type": "stream",
     "text": [
      "[10 20 30 40]\n",
      "[100 200 300]\n"
     ]
    }
   ],
   "source": [
    "# Define 2 vectors\n",
    "r = np.array([10, 20, 30, 40])\n",
    "c = np.array([100, 200, 300])\n",
    "print(r)\n",
    "print(c)"
   ]
  },
  {
   "cell_type": "code",
   "execution_count": 43,
   "id": "8b69211b",
   "metadata": {},
   "outputs": [
    {
     "name": "stdout",
     "output_type": "stream",
     "text": [
      "[[11 24 37 50]\n",
      " [12 25 38 51]\n",
      " [13 26 39 52]]\n"
     ]
    }
   ],
   "source": [
    "# broadcast on the rows\n",
    "print(A + r)"
   ]
  },
  {
   "cell_type": "code",
   "execution_count": 44,
   "id": "e7a4d378",
   "metadata": {},
   "outputs": [
    {
     "name": "stdout",
     "output_type": "stream",
     "text": [
      "[[101 104 107 110]\n",
      " [202 205 208 211]\n",
      " [303 306 309 312]]\n"
     ]
    }
   ],
   "source": [
    "# Broadcast on columns\n",
    "# print(A + c) this gives an error\n",
    "print(A + np.reshape(c,(len(c), 1)))"
   ]
  },
  {
   "cell_type": "code",
   "execution_count": 45,
   "id": "9d2331a7",
   "metadata": {},
   "outputs": [
    {
     "data": {
      "text/plain": [
       "array([[100],\n",
       "       [200],\n",
       "       [300]])"
      ]
     },
     "execution_count": 45,
     "metadata": {},
     "output_type": "execute_result"
    }
   ],
   "source": [
    "# Works for explicit column vectors\n",
    "np.reshape(c,(len(c), 1))"
   ]
  }
 ],
 "metadata": {
  "kernelspec": {
   "display_name": "Python 3 (ipykernel)",
   "language": "python",
   "name": "python3"
  },
  "language_info": {
   "codemirror_mode": {
    "name": "ipython",
    "version": 3
   },
   "file_extension": ".py",
   "mimetype": "text/x-python",
   "name": "python",
   "nbconvert_exporter": "python",
   "pygments_lexer": "ipython3",
   "version": "3.9.7"
  }
 },
 "nbformat": 4,
 "nbformat_minor": 5
}
