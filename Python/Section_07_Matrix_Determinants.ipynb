{
 "cells": [
  {
   "cell_type": "markdown",
   "id": "e79324f7",
   "metadata": {},
   "source": [
    "# Section 7: Matrix Determinants"
   ]
  },
  {
   "cell_type": "markdown",
   "id": "b2c965d5",
   "metadata": {},
   "source": [
    "## Determinants of Simple Matrices"
   ]
  },
  {
   "cell_type": "code",
   "execution_count": 1,
   "id": "b2b92d7c",
   "metadata": {},
   "outputs": [],
   "source": [
    "import numpy as np"
   ]
  },
  {
   "cell_type": "code",
   "execution_count": 2,
   "id": "2a1be108",
   "metadata": {},
   "outputs": [
    {
     "name": "stdout",
     "output_type": "stream",
     "text": [
      "0.0\n"
     ]
    }
   ],
   "source": [
    "# generate a 2x2 matrix of integers with linear dependencies\n",
    "# comoute the rank\n",
    "A = [[1,3], [1,3]]\n",
    "print(np.linalg.det(A))"
   ]
  },
  {
   "cell_type": "code",
   "execution_count": 3,
   "id": "252af89f",
   "metadata": {},
   "outputs": [
    {
     "name": "stdout",
     "output_type": "stream",
     "text": [
      "5.477239865719277\n"
     ]
    }
   ],
   "source": [
    "# generate random matrix without and with linear dependencies\n",
    "m = 5\n",
    "A = np.random.randn(m,m)\n",
    "print(np.linalg.det(A))"
   ]
  },
  {
   "cell_type": "code",
   "execution_count": 4,
   "id": "21e98ac5",
   "metadata": {},
   "outputs": [
    {
     "name": "stdout",
     "output_type": "stream",
     "text": [
      "[[ 0.4876084   0.4876084   1.33981223  0.1004025  -0.83884348]\n",
      " [ 0.68193198  0.68193198  0.62621927 -0.45171108 -1.88967604]\n",
      " [ 1.04143771  1.04143771  0.9531588  -0.32669846  0.52612886]\n",
      " [-1.0657756  -1.0657756   0.73711078 -0.24192671 -0.30817084]\n",
      " [-0.43637209 -0.43637209  1.09149227 -1.47489237  0.85561455]]\n",
      "-5.459351483975485e-17\n"
     ]
    }
   ],
   "source": [
    "# create linear dependencies\n",
    "A[:,0] = A[:,1]\n",
    "print(A)\n",
    "print(np.linalg.det(A))"
   ]
  },
  {
   "cell_type": "code",
   "execution_count": 5,
   "id": "799940f3",
   "metadata": {},
   "outputs": [
    {
     "name": "stdout",
     "output_type": "stream",
     "text": [
      "540.0513334898761\n",
      "-3.8293057262642396e-14\n"
     ]
    }
   ],
   "source": [
    "m = 10\n",
    "A = np.random.randn(m,m)\n",
    "print(np.linalg.det(A))\n",
    "A[:,0] = A[:,1]\n",
    "print(np.linalg.det(A))"
   ]
  },
  {
   "cell_type": "code",
   "execution_count": 6,
   "id": "318a29f9",
   "metadata": {},
   "outputs": [
    {
     "name": "stdout",
     "output_type": "stream",
     "text": [
      "1.7866549445521456e+16\n"
     ]
    }
   ],
   "source": [
    "m = 30\n",
    "A = np.random.randn(m,m)\n",
    "print(np.linalg.det(A))"
   ]
  },
  {
   "cell_type": "code",
   "execution_count": 7,
   "id": "e2bbdba0",
   "metadata": {},
   "outputs": [
    {
     "name": "stdout",
     "output_type": "stream",
     "text": [
      "-0.014403009467721405\n"
     ]
    }
   ],
   "source": [
    "A[:,0] = A[:,1]\n",
    "print(np.linalg.det(A))"
   ]
  },
  {
   "cell_type": "code",
   "execution_count": 8,
   "id": "ae4d659d",
   "metadata": {},
   "outputs": [
    {
     "name": "stdout",
     "output_type": "stream",
     "text": [
      "-4.043001242854066e+305\n",
      "-7.962442982606249e+288\n"
     ]
    }
   ],
   "source": [
    "m = 300\n",
    "A = np.random.randn(m,m)\n",
    "print(np.linalg.det(A))\n",
    "A[:,0] = A[:,200]\n",
    "print(np.linalg.det(A))"
   ]
  },
  {
   "cell_type": "markdown",
   "id": "2f36c4e6",
   "metadata": {},
   "source": [
    "## Large Matrices with Row Exchange"
   ]
  },
  {
   "cell_type": "code",
   "execution_count": 9,
   "id": "902c7dac",
   "metadata": {},
   "outputs": [
    {
     "name": "stdout",
     "output_type": "stream",
     "text": [
      "Determinant before row swap: 1.131053507777759\n"
     ]
    }
   ],
   "source": [
    "# Generate a 6x6 matrix\n",
    "# - Compute the determinant\n",
    "# - Swap one row and compute determinant\n",
    "# - Swap two rows and compute determinant\n",
    "A = np.random.randn(6,6)\n",
    "print(\"Determinant before row swap: {}\".format(np.linalg.det(A)))"
   ]
  },
  {
   "cell_type": "code",
   "execution_count": 10,
   "id": "71dcebca",
   "metadata": {},
   "outputs": [
    {
     "name": "stdout",
     "output_type": "stream",
     "text": [
      "Determinant after row swap: -1.131053507777759\n"
     ]
    }
   ],
   "source": [
    "As = A[[1,0,2,3,4,5], :]\n",
    "print(\"Determinant after row swap: {}\".format(np.linalg.det(As)))"
   ]
  },
  {
   "cell_type": "code",
   "execution_count": 11,
   "id": "bd53cfd5",
   "metadata": {},
   "outputs": [
    {
     "name": "stdout",
     "output_type": "stream",
     "text": [
      "Determinant 2 row swap: 1.131053507777759\n"
     ]
    }
   ],
   "source": [
    "Ass = A[[1,0,2,4,3,5],:]\n",
    "print(\"Determinant 2 row swap: {}\".format(np.linalg.det(Ass)))"
   ]
  },
  {
   "cell_type": "code",
   "execution_count": 12,
   "id": "4d022444",
   "metadata": {},
   "outputs": [
    {
     "name": "stdout",
     "output_type": "stream",
     "text": [
      "Determinant after column swap: -1.131053507777759\n"
     ]
    }
   ],
   "source": [
    "As = A[:, [1,0,2,3,4,5]]\n",
    "print(\"Determinant after column swap: {}\".format(np.linalg.det(As)))"
   ]
  },
  {
   "cell_type": "code",
   "execution_count": 13,
   "id": "692ebb4a",
   "metadata": {},
   "outputs": [
    {
     "name": "stdout",
     "output_type": "stream",
     "text": [
      "Determinant after 2 column swap: 1.1310535077777588\n"
     ]
    }
   ],
   "source": [
    "Ass = A[:, [1,0,2,4,3,5]]\n",
    "print(\"Determinant after 2 column swap: {}\".format(np.linalg.det(Ass)))"
   ]
  },
  {
   "cell_type": "markdown",
   "id": "b9ee3e70",
   "metadata": {},
   "source": [
    "## Code Challenge: Determinant of Shifted Matrix"
   ]
  },
  {
   "cell_type": "code",
   "execution_count": 14,
   "id": "47ac4a3a",
   "metadata": {},
   "outputs": [
    {
     "data": {
      "image/png": "[encoded data removed]",
      "text/plain": [
       "<Figure size 432x288 with 1 Axes>"
      ]
     },
     "metadata": {
      "needs_background": "light"
     },
     "output_type": "display_data"
    }
   ],
   "source": [
    "# Generate a random square matrix (n=20)\n",
    "# impose linear dependence\n",
    "# Shift the matrix (0 -> .1 times the identity matrix) (lambda)\n",
    "# compute the abs(determinant) of the shifted matrix\n",
    "# repeat it 1000 times, take the average abs\n",
    "# plot the determinant as a function of lambda\n",
    "import matplotlib.pyplot as plt\n",
    "\n",
    "lambdas = np.linspace(0, 0.1, 30)\n",
    "\n",
    "# initialize\n",
    "tmp = np.zeros(1000)\n",
    "dets = np.zeros(len(lambdas))\n",
    "\n",
    "for deti in range(len(lambdas)):\n",
    "    \n",
    "    # run 1000 iterations\n",
    "    for i in range(1000):\n",
    "        \n",
    "        # generate a matrix\n",
    "        M = np.random.randn(20,20)\n",
    "        M[:,0] = M[:,1]\n",
    "        \n",
    "        # compute the determinant\n",
    "        tmp[i] = abs( np.linalg.det(M + lambdas[deti]*np.eye(20)))\n",
    "    # compute the average determinant\n",
    "    dets[deti] = np.mean(tmp)\n",
    "    \n",
    "plt.plot(lambdas, dets, \"s-\")\n",
    "plt.xlabel(\"Fraction of Identity for shifting\")\n",
    "plt.ylabel(\"Determinant\")\n",
    "plt.show()"
   ]
  },
  {
   "cell_type": "code",
   "execution_count": 15,
   "id": "3b60a203",
   "metadata": {},
   "outputs": [
    {
     "data": {
      "text/plain": [
       "array([3.13391312e-08, 7.10568673e+05, 1.37025895e+06, 2.46871099e+06,\n",
       "       2.88482180e+06, 3.80683772e+06, 4.19931546e+06, 5.30225364e+06,\n",
       "       5.46743279e+06, 6.33876076e+06, 6.65152037e+06, 7.50889113e+06,\n",
       "       8.26276543e+06, 8.84428159e+06, 1.07162446e+07, 1.05783749e+07,\n",
       "       1.05481078e+07, 1.30923306e+07, 1.41301735e+07, 1.33589541e+07,\n",
       "       1.37538986e+07, 1.57618127e+07, 1.47375296e+07, 1.66053782e+07,\n",
       "       1.77455053e+07, 1.72364044e+07, 1.82273669e+07, 2.37168222e+07,\n",
       "       1.91731367e+07, 2.12020068e+07])"
      ]
     },
     "execution_count": 15,
     "metadata": {},
     "output_type": "execute_result"
    }
   ],
   "source": [
    "dets"
   ]
  },
  {
   "cell_type": "markdown",
   "id": "d5cc2072",
   "metadata": {},
   "source": [
    "## Code Challenge II"
   ]
  },
  {
   "cell_type": "code",
   "execution_count": 16,
   "id": "724164ad",
   "metadata": {},
   "outputs": [
    {
     "name": "stdout",
     "output_type": "stream",
     "text": [
      "-10.135195689907707\n",
      "-10.135195689907706\n"
     ]
    }
   ],
   "source": [
    "# Illustrate that det(AB) = det(A)*det(B)\n",
    "# 1) for a 3x3 matrix\n",
    "A = np.random.randn(3,3)\n",
    "B = np.random.randn(3,3)\n",
    "\n",
    "AB = A@B\n",
    "\n",
    "print(np.linalg.det(AB))\n",
    "print(np.linalg.det(A)*np.linalg.det(B))"
   ]
  },
  {
   "cell_type": "code",
   "execution_count": 17,
   "id": "5fb97449",
   "metadata": {},
   "outputs": [],
   "source": [
    "# Use a loop to go up to matrices of size 40x40\n",
    "dets = np.zeros(40)\n",
    "\n",
    "m = 40\n",
    "for k in range(2,m):\n",
    "    A = np.random.randn(k,k)\n",
    "    B = np.random.randn(k,k)\n",
    "    \n",
    "    dets[k-2] = np.linalg.det(A@B) - (np.linalg.det(A)*np.linalg.det(B))\n"
   ]
  },
  {
   "cell_type": "code",
   "execution_count": 18,
   "id": "08796778",
   "metadata": {},
   "outputs": [
    {
     "data": {
      "image/png": "[encoded data removed]",
      "text/plain": [
       "<Figure size 432x288 with 1 Axes>"
      ]
     },
     "metadata": {
      "needs_background": "light"
     },
     "output_type": "display_data"
    }
   ],
   "source": [
    "plt.plot(dets, \"or-\")\n",
    "plt.xlabel(\"Matrix Size\")\n",
    "plt.ylabel(\"Difference in Determinants\")\n",
    "plt.show()"
   ]
  },
  {
   "cell_type": "code",
   "execution_count": 19,
   "id": "50ed7e6a",
   "metadata": {},
   "outputs": [
    {
     "data": {
      "image/png": "[encoded data removed]",
      "text/plain": [
       "<Figure size 432x288 with 1 Axes>"
      ]
     },
     "metadata": {
      "needs_background": "light"
     },
     "output_type": "display_data"
    }
   ],
   "source": [
    "plt.plot(dets, \"or-\")\n",
    "plt.ylim([-1,1])\n",
    "plt.xlabel(\"Matrix Size\")\n",
    "plt.ylabel(\"Difference in Determinants\")\n",
    "plt.show()"
   ]
  }
 ],
 "metadata": {
  "kernelspec": {
   "display_name": "Python 3 (ipykernel)",
   "language": "python",
   "name": "python3"
  },
  "language_info": {
   "codemirror_mode": {
    "name": "ipython",
    "version": 3
   },
   "file_extension": ".py",
   "mimetype": "text/x-python",
   "name": "python",
   "nbconvert_exporter": "python",
   "pygments_lexer": "ipython3",
   "version": "3.9.7"
  }
 },
 "nbformat": 4,
 "nbformat_minor": 5
}
