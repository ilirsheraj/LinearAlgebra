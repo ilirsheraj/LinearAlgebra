{
 "cells": [
  {
   "cell_type": "markdown",
   "id": "951d61c6",
   "metadata": {},
   "source": [
    "# Chapter 4 - Matrix Rank"
   ]
  },
  {
   "cell_type": "code",
   "execution_count": 1,
   "id": "2c36dbd6",
   "metadata": {},
   "outputs": [],
   "source": [
    "import numpy as np"
   ]
  },
  {
   "cell_type": "markdown",
   "id": "ad887d93",
   "metadata": {},
   "source": [
    "## Calculate the Rank of a Matrix"
   ]
  },
  {
   "cell_type": "code",
   "execution_count": 2,
   "id": "ed0c2778",
   "metadata": {},
   "outputs": [
    {
     "name": "stdout",
     "output_type": "stream",
     "text": [
      "The rank of matrix A is 4\n"
     ]
    }
   ],
   "source": [
    "# create a matrix\n",
    "m = 4\n",
    "n = 6\n",
    "\n",
    "A = np.random.randn(m,n)\n",
    "\n",
    "# calculate its rank\n",
    "ra = np.linalg.matrix_rank(A)\n",
    "print(\"The rank of matrix A is {}\". format(ra))"
   ]
  },
  {
   "cell_type": "code",
   "execution_count": 3,
   "id": "dd5bc6c5",
   "metadata": {},
   "outputs": [
    {
     "name": "stdout",
     "output_type": "stream",
     "text": [
      "[[ 0.57678435 -0.78239    -0.39191178 -0.72329224 -0.07088898 -0.07088898]\n",
      " [ 2.03537089 -0.82088645  0.15695092 -0.20260354  0.35436399  0.35436399]\n",
      " [ 0.5396335   0.12370888 -0.2054872   0.51636517 -0.34007243 -0.34007243]\n",
      " [-0.31107796  1.28365524 -1.80461945  2.13838171 -0.8877294  -0.8877294 ]]\n",
      "\n",
      "The rank of Matrix B is 4\n"
     ]
    }
   ],
   "source": [
    "# set the last column to be the repetition of the penultimate column\n",
    "B = A\n",
    "B[:,-1] = B[:, -2]\n",
    "\n",
    "# calculate the rank\n",
    "rb = np.linalg.matrix_rank(B)\n",
    "print(B)\n",
    "print()\n",
    "print(\"The rank of Matrix B is {}\".format(rb))"
   ]
  },
  {
   "cell_type": "code",
   "execution_count": 4,
   "id": "ed866e79",
   "metadata": {},
   "outputs": [
    {
     "name": "stdout",
     "output_type": "stream",
     "text": [
      "[[ 0.57678435 -0.78239    -0.39191178 -0.72329224 -0.07088898 -0.07088898]\n",
      " [ 2.03537089 -0.82088645  0.15695092 -0.20260354  0.35436399  0.35436399]\n",
      " [ 0.5396335   0.12370888 -0.2054872   0.51636517 -0.34007243 -0.34007243]\n",
      " [ 0.5396335   0.12370888 -0.2054872   0.51636517 -0.34007243 -0.34007243]]\n",
      "\n",
      "The rank of Matrix B is 3\n"
     ]
    }
   ],
   "source": [
    "# Create a repeat of the last row\n",
    "B = A\n",
    "B[-1,:] = B[-2,:]\n",
    "rb = np.linalg.matrix_rank(B)\n",
    "print(B)\n",
    "print()\n",
    "print(\"The rank of Matrix B is {}\".format(rb))"
   ]
  },
  {
   "cell_type": "code",
   "execution_count": 5,
   "id": "9b53f781",
   "metadata": {},
   "outputs": [
    {
     "name": "stdout",
     "output_type": "stream",
     "text": [
      "Rank without noise is 3\n",
      "Rank with noise is 4\n"
     ]
    }
   ],
   "source": [
    "# Add noise to a rank deficient matrix\n",
    "A = np.round(10* np.random.randn(m,m))\n",
    "\n",
    "# reduce the rank\n",
    "A[:, -1] = A[:, -2]\n",
    "\n",
    "# introduce some noise\n",
    "noiseamp = 0.001\n",
    "\n",
    "# ad noise to the matrix\n",
    "B = A + noiseamp*np.random.randn(m,m)\n",
    "\n",
    "rankA = np.linalg.matrix_rank(A)\n",
    "rankB = np.linalg.matrix_rank(B)\n",
    "\n",
    "print(\"Rank without noise is {}\".format(rankA))\n",
    "print(\"Rank with noise is {}\".format(rankB))"
   ]
  },
  {
   "cell_type": "code",
   "execution_count": 6,
   "id": "9c5e4bd4",
   "metadata": {},
   "outputs": [
    {
     "name": "stdout",
     "output_type": "stream",
     "text": [
      "Rank without noise is 3\n",
      "Rank with noise is 3\n"
     ]
    }
   ],
   "source": [
    "# Add noise to a rank deficient matrix: With this noise rank doesnt change\n",
    "A = np.round(10* np.random.randn(m,m))\n",
    "\n",
    "# reduce the rank\n",
    "A[:, -1] = A[:, -2]\n",
    "\n",
    "# introduce some noise\n",
    "noiseamp = 0.00000000000001\n",
    "\n",
    "# ad noise to the matrix\n",
    "B = A + noiseamp*np.random.randn(m,m)\n",
    "\n",
    "rankA = np.linalg.matrix_rank(A)\n",
    "rankB = np.linalg.matrix_rank(B)\n",
    "\n",
    "print(\"Rank without noise is {}\".format(rankA))\n",
    "print(\"Rank with noise is {}\".format(rankB))"
   ]
  },
  {
   "cell_type": "markdown",
   "id": "4e7d6622",
   "metadata": {},
   "source": [
    "## Rank of Added and Multiplied Matrix"
   ]
  },
  {
   "cell_type": "markdown",
   "id": "ee1beb79",
   "metadata": {},
   "source": [
    "If we know the rank(A) and rank(B), what can we infer about rank(A+B) and rank(AxB)? There are some rules about deciding on the upper boundary, i.e. the maximum possible value of rank(A+B) and rank(AxB)."
   ]
  },
  {
   "cell_type": "code",
   "execution_count": 7,
   "id": "f63c3c1e",
   "metadata": {},
   "outputs": [
    {
     "name": "stdout",
     "output_type": "stream",
     "text": [
      "Rank of A is 3\n",
      "\n",
      "Rank of B is 3\n",
      "\n",
      "Rank of A + B is 3\n"
     ]
    }
   ],
   "source": [
    "# Some examples\n",
    "A = np.array([[1,2,3], \n",
    "              [3,4,1],\n",
    "              [5,9,1]])\n",
    "B = np.array([[0,3,5], \n",
    "              [1,0,4], \n",
    "              [3,3,0]])\n",
    "C = A+B\n",
    "print(\"Rank of A is {}\".format(np.linalg.matrix_rank(A)))\n",
    "print()\n",
    "print(\"Rank of B is {}\".format(np.linalg.matrix_rank(B)))\n",
    "print()\n",
    "print(\"Rank of A + B is {}\".format(np.linalg.matrix_rank(C)))"
   ]
  },
  {
   "cell_type": "code",
   "execution_count": 8,
   "id": "16e7eab8",
   "metadata": {},
   "outputs": [
    {
     "name": "stdout",
     "output_type": "stream",
     "text": [
      "Rank of A is 2\n",
      "\n",
      "Rank of B is 0\n",
      "\n",
      "Rank of A + B is 2\n"
     ]
    }
   ],
   "source": [
    "A = np.array([[1,1,1], \n",
    "              [2,2,2], \n",
    "              [3,3,0]])\n",
    "\n",
    "B = np.zeros((3,3))\n",
    "\n",
    "C = A+B\n",
    "print(\"Rank of A is {}\".format(np.linalg.matrix_rank(A)))\n",
    "print()\n",
    "print(\"Rank of B is {}\".format(np.linalg.matrix_rank(B)))\n",
    "print()\n",
    "print(\"Rank of A + B is {}\".format(np.linalg.matrix_rank(C)))"
   ]
  },
  {
   "cell_type": "code",
   "execution_count": 9,
   "id": "34f03599",
   "metadata": {},
   "outputs": [
    {
     "name": "stdout",
     "output_type": "stream",
     "text": [
      "Rank of A is 2\n",
      "\n",
      "Rank of B is 1\n",
      "\n",
      "Rank of A + B is 3\n"
     ]
    }
   ],
   "source": [
    "A = np.array([[1,2,0], \n",
    "              [3,4,0], \n",
    "              [5,9,0]])\n",
    "\n",
    "B = np.array([[0,0,5], \n",
    "              [0,0,4], \n",
    "              [0,0,1]])\n",
    "\n",
    "C = A+B\n",
    "print(\"Rank of A is {}\".format(np.linalg.matrix_rank(A)))\n",
    "print()\n",
    "print(\"Rank of B is {}\".format(np.linalg.matrix_rank(B)))\n",
    "print()\n",
    "print(\"Rank of A + B is {}\".format(np.linalg.matrix_rank(C)))"
   ]
  },
  {
   "cell_type": "code",
   "execution_count": 10,
   "id": "f47a59fe",
   "metadata": {},
   "outputs": [
    {
     "name": "stdout",
     "output_type": "stream",
     "text": [
      "Rank of A is 3\n",
      "\n",
      "Rank of B is 2\n",
      "\n",
      "Rank of A + B is 1\n"
     ]
    }
   ],
   "source": [
    "A = np.array([[-1,-4,2], \n",
    "              [-4,2,-1], \n",
    "              [9,4,-3]])\n",
    "\n",
    "B = np.array([[1,4,0], \n",
    "              [4,-2,0], \n",
    "              [-9,-4,0]])\n",
    "\n",
    "C = A+B\n",
    "print(\"Rank of A is {}\".format(np.linalg.matrix_rank(A)))\n",
    "print()\n",
    "print(\"Rank of B is {}\".format(np.linalg.matrix_rank(B)))\n",
    "print()\n",
    "print(\"Rank of A + B is {}\".format(np.linalg.matrix_rank(C)))"
   ]
  },
  {
   "cell_type": "markdown",
   "id": "ab9fecd8",
   "metadata": {},
   "source": [
    "For the same matrices apply multiplication (dot product)"
   ]
  },
  {
   "cell_type": "code",
   "execution_count": 11,
   "id": "5ee6aff7",
   "metadata": {},
   "outputs": [
    {
     "name": "stdout",
     "output_type": "stream",
     "text": [
      "Rank of A is 3\n",
      "\n",
      "Rank of B is 3\n",
      "\n",
      "Rank of AxB is 3\n"
     ]
    }
   ],
   "source": [
    "A = np.array([[1,2,3], \n",
    "              [3,4,1],\n",
    "              [5,9,1]])\n",
    "B = np.array([[0,3,5], \n",
    "              [1,0,4], \n",
    "              [3,3,0]])\n",
    "C = A@B\n",
    "print(\"Rank of A is {}\".format(np.linalg.matrix_rank(A)))\n",
    "print()\n",
    "print(\"Rank of B is {}\".format(np.linalg.matrix_rank(B)))\n",
    "print()\n",
    "print(\"Rank of AxB is {}\".format(np.linalg.matrix_rank(C)))"
   ]
  },
  {
   "cell_type": "code",
   "execution_count": 12,
   "id": "1dcd7a23",
   "metadata": {},
   "outputs": [
    {
     "name": "stdout",
     "output_type": "stream",
     "text": [
      "Rank of A is 2\n",
      "\n",
      "Rank of B is 0\n",
      "\n",
      "Rank of AxB is 0\n"
     ]
    }
   ],
   "source": [
    "A = np.array([[1,1,1], \n",
    "              [2,2,2], \n",
    "              [3,3,0]])\n",
    "\n",
    "B = np.zeros((3,3))\n",
    "\n",
    "C = A@B\n",
    "print(\"Rank of A is {}\".format(np.linalg.matrix_rank(A)))\n",
    "print()\n",
    "print(\"Rank of B is {}\".format(np.linalg.matrix_rank(B)))\n",
    "print()\n",
    "print(\"Rank of AxB is {}\".format(np.linalg.matrix_rank(C)))"
   ]
  },
  {
   "cell_type": "code",
   "execution_count": 13,
   "id": "164d3f62",
   "metadata": {},
   "outputs": [
    {
     "name": "stdout",
     "output_type": "stream",
     "text": [
      "Rank of A is 2\n",
      "\n",
      "Rank of B is 1\n",
      "\n",
      "Rank of AxB is 1\n"
     ]
    }
   ],
   "source": [
    "A = np.array([[1,2,0], \n",
    "              [3,4,0], \n",
    "              [5,9,0]])\n",
    "\n",
    "B = np.array([[0,0,5], \n",
    "              [0,0,4], \n",
    "              [0,0,1]])\n",
    "\n",
    "C = A@B\n",
    "print(\"Rank of A is {}\".format(np.linalg.matrix_rank(A)))\n",
    "print()\n",
    "print(\"Rank of B is {}\".format(np.linalg.matrix_rank(B)))\n",
    "print()\n",
    "print(\"Rank of AxB is {}\".format(np.linalg.matrix_rank(C)))"
   ]
  },
  {
   "cell_type": "code",
   "execution_count": 14,
   "id": "ed1d48c8",
   "metadata": {},
   "outputs": [
    {
     "name": "stdout",
     "output_type": "stream",
     "text": [
      "Rank of A is 3\n",
      "\n",
      "Rank of B is 2\n",
      "\n",
      "Rank of AxB is 2\n"
     ]
    }
   ],
   "source": [
    "A = np.array([[-1,-4,2], \n",
    "              [-4,2,-1], \n",
    "              [9,4,-3]])\n",
    "\n",
    "B = np.array([[1,4,0], \n",
    "              [4,-2,0], \n",
    "              [-9,-4,0]])\n",
    "\n",
    "C = A@B\n",
    "print(\"Rank of A is {}\".format(np.linalg.matrix_rank(A)))\n",
    "print()\n",
    "print(\"Rank of B is {}\".format(np.linalg.matrix_rank(B)))\n",
    "print()\n",
    "print(\"Rank of AxB is {}\".format(np.linalg.matrix_rank(C)))"
   ]
  },
  {
   "cell_type": "markdown",
   "id": "1039f6ee",
   "metadata": {},
   "source": [
    "## Reduced Rank Matrix via Multiplication"
   ]
  },
  {
   "cell_type": "code",
   "execution_count": 15,
   "id": "10d4db50",
   "metadata": {},
   "outputs": [
    {
     "name": "stdout",
     "output_type": "stream",
     "text": [
      "The shape of C is (10, 10)\n",
      "\n",
      "The rank of C is 4\n"
     ]
    }
   ],
   "source": [
    "# create a reduced rank matrix using multiplication\n",
    "A = np.random.randn(10,4)\n",
    "B = np.random.randn(4,10)\n",
    "C = A@B\n",
    "print(\"The shape of C is {}\".format(np.shape(C)))\n",
    "print()\n",
    "print(\"The rank of C is {}\".format(np.linalg.matrix_rank(C)))"
   ]
  },
  {
   "cell_type": "code",
   "execution_count": 16,
   "id": "b00018dd",
   "metadata": {},
   "outputs": [
    {
     "name": "stdout",
     "output_type": "stream",
     "text": [
      "The shape of A is (50, 70)\n",
      "\n",
      "The rank of A is 10\n"
     ]
    }
   ],
   "source": [
    "# Generalize for matrixes of any size\n",
    "m = 50\n",
    "n = 70\n",
    "r =10\n",
    "\n",
    "A = np.random.randn(m,r) @ np.random.randn(r,n)\n",
    "print(\"The shape of A is {}\".format(np.shape(A)))\n",
    "print()\n",
    "print(\"The rank of A is {}\".format(np.linalg.matrix_rank(A)))"
   ]
  },
  {
   "cell_type": "markdown",
   "id": "ac143546",
   "metadata": {},
   "source": [
    "## Scalar Multiplication and Rank"
   ]
  },
  {
   "cell_type": "code",
   "execution_count": 17,
   "id": "aaa459fc",
   "metadata": {},
   "outputs": [
    {
     "name": "stdout",
     "output_type": "stream",
     "text": [
      "The rank of A is 4\n",
      "The rank of B is 3\n"
     ]
    }
   ],
   "source": [
    "# define a full-rank and a reduced-rank matrix\n",
    "m = 5\n",
    "n = 4\n",
    "\n",
    "A = np.random.randn(m,n)\n",
    "B = np.random.randn(m, n-1)\n",
    "\n",
    "print(\"The rank of A is {}\".format(np.linalg.matrix_rank(A)))\n",
    "print(\"The rank of B is {}\".format(np.linalg.matrix_rank(B)))"
   ]
  },
  {
   "cell_type": "code",
   "execution_count": 18,
   "id": "85078553",
   "metadata": {},
   "outputs": [
    {
     "name": "stdout",
     "output_type": "stream",
     "text": [
      "The rank of A is 4\n",
      "The rank of B is 3\n"
     ]
    }
   ],
   "source": [
    "# define a scalar l and re-calculate the ranks\n",
    "# No change\n",
    "l = 12345\n",
    "print(\"The rank of A is {}\".format(np.linalg.matrix_rank(l*A)))\n",
    "print(\"The rank of B is {}\".format(np.linalg.matrix_rank(l*B)))"
   ]
  },
  {
   "cell_type": "code",
   "execution_count": 19,
   "id": "9871d4ab",
   "metadata": {},
   "outputs": [
    {
     "name": "stdout",
     "output_type": "stream",
     "text": [
      "The rank of A is 8\n",
      "The rank of B is 6\n"
     ]
    }
   ],
   "source": [
    "# Multiply l with the ran of matrix\n",
    "l = 2\n",
    "print(\"The rank of A is {}\".format(l*np.linalg.matrix_rank(A)))\n",
    "print(\"The rank of B is {}\".format(l*np.linalg.matrix_rank(B)))"
   ]
  },
  {
   "cell_type": "markdown",
   "id": "6eba9b7c",
   "metadata": {},
   "source": [
    "Since rank(lxA) is not equal to lxrank(A), we say that rank is not a linear operator"
   ]
  },
  {
   "cell_type": "markdown",
   "id": "fecea656",
   "metadata": {},
   "source": [
    "## Rank of ATA and AAT"
   ]
  },
  {
   "cell_type": "code",
   "execution_count": 20,
   "id": "2f00dcbe",
   "metadata": {},
   "outputs": [
    {
     "name": "stdout",
     "output_type": "stream",
     "text": [
      "AtA size is 3x3 and rank is 3\n",
      "AAt size is 14x14 and rank is 3\n"
     ]
    }
   ],
   "source": [
    "# Define a matrix\n",
    "m = 14\n",
    "n = 3\n",
    "A = np.random.randn(m,n)\n",
    "\n",
    "# compute the multiplications\n",
    "AtA = A.T @ A\n",
    "AAt = A @ A.T\n",
    "\n",
    "print(\"AtA size is {}x{} and rank is {}\".format(AtA.shape[0],AtA.shape[1], np.linalg.matrix_rank(AtA)))\n",
    "print(\"AAt size is {}x{} and rank is {}\".format(AAt.shape[0],AAt.shape[1], np.linalg.matrix_rank(AAt)))"
   ]
  },
  {
   "cell_type": "markdown",
   "id": "12275a8b",
   "metadata": {},
   "source": [
    "## Making a Full-Rank Matrix by Shifting"
   ]
  },
  {
   "cell_type": "code",
   "execution_count": 21,
   "id": "2d1d82e2",
   "metadata": {},
   "outputs": [
    {
     "name": "stdout",
     "output_type": "stream",
     "text": [
      "The rank of A is 30\n",
      "The reduced rank of A is 29\n"
     ]
    }
   ],
   "source": [
    "m = 30\n",
    "\n",
    "A = np.random.randn(m,m)\n",
    "A = np.round(10* A.T @A)\n",
    "print(\"The rank of A is {}\".format(np.linalg.matrix_rank(A)))\n",
    "# Reduce the rank\n",
    "A[:,0] = A[:,1]\n",
    "print(\"The reduced rank of A is {}\".format(np.linalg.matrix_rank(A)))"
   ]
  },
  {
   "cell_type": "code",
   "execution_count": 22,
   "id": "f8b27f79",
   "metadata": {},
   "outputs": [
    {
     "name": "stdout",
     "output_type": "stream",
     "text": [
      "The rank of B is 30\n"
     ]
    }
   ],
   "source": [
    "# define an lambda value\n",
    "l = 0.01\n",
    "B = A + l*np.eye(m)\n",
    "\n",
    "print(\"The rank of B is {}\".format(np.linalg.matrix_rank(B)))"
   ]
  },
  {
   "cell_type": "code",
   "execution_count": 23,
   "id": "e4bebcba",
   "metadata": {},
   "outputs": [
    {
     "name": "stdout",
     "output_type": "stream",
     "text": [
      "4\n",
      "13\n"
     ]
    }
   ],
   "source": [
    "# Create a very low rank matrix and then increase the rank\n",
    "m = 13\n",
    "n = 4\n",
    "A = np.random.randn(m,n)\n",
    "print(np.linalg.matrix_rank(A))\n",
    "A = np.round(10*A @A.T)\n",
    "print(np.linalg.matrix_rank(A))"
   ]
  },
  {
   "cell_type": "code",
   "execution_count": 24,
   "id": "95b47ce5",
   "metadata": {},
   "outputs": [
    {
     "name": "stdout",
     "output_type": "stream",
     "text": [
      "[[ 54.  10.  19.  25. -17. -11.   2.  -4.  18.  14.  -3.  -3.  22.]\n",
      " [ 10. 106.  -2. -23. -15.  -3.  -6. -13. -63.  11. -15.  38.   8.]\n",
      " [ 19.  -2.  44.  -4.  -5. -18.  12.  -8.  13.  -0.  -9. -50.  -2.]\n",
      " [ 25. -23.  -4.  29.  -0.  -6.   6.   5.  20.  20.  16.  14.  19.]\n",
      " [-17. -15.  -5.  -0.  13.  -4.   9.   4.  -4.  11.  14.   4.  -1.]\n",
      " [-11.  -3. -18.  -6.  -4.  17. -15.   2.   2. -21. -10.   8. -10.]\n",
      " [  2.  -6.  12.   6.   9. -15.  16.   1.  -2.  21.  15.  -4.   8.]\n",
      " [ -4. -13.  -8.   5.   4.   2.   1.   4.   4.   3.   7.   7.   1.]\n",
      " [ 18. -63.  13.  20.  -4.   2.  -2.   4.  52. -15.  -2. -37.  -2.]\n",
      " [ 14.  11.  -0.  20.  11. -21.  21.   3. -15.  48.  30.  31.  26.]\n",
      " [ -3. -15.  -9.  16.  14. -10.  15.   7.  -2.  30.  26.  22.  14.]\n",
      " [ -3.  38. -50.  14.   4.   8.  -4.   7. -37.  31.  22.  86.  22.]\n",
      " [ 22.   8.  -2.  19.  -1. -10.   8.   1.  -2.  26.  14.  22.  19.]]\n"
     ]
    }
   ],
   "source": [
    "print(A)"
   ]
  },
  {
   "cell_type": "markdown",
   "id": "7b13ce54",
   "metadata": {},
   "source": [
    "## Vector in the Span of a Set"
   ]
  },
  {
   "cell_type": "code",
   "execution_count": 25,
   "id": "2ca826ae",
   "metadata": {},
   "outputs": [
    {
     "name": "stdout",
     "output_type": "stream",
     "text": [
      "[[1]\n",
      " [2]\n",
      " [3]\n",
      " [4]]\n",
      "\n",
      "[[4 0]\n",
      " [3 4]\n",
      " [6 0]\n",
      " [2 1]]\n",
      "\n",
      "[[1 0]\n",
      " [2 0]\n",
      " [2 1]\n",
      " [2 2]]\n"
     ]
    }
   ],
   "source": [
    "# Determine whether the following vector is in the span of these sets\n",
    "v = np.array([[1, 2, 3, 4]]).T\n",
    "\n",
    "S = np.vstack(([4,3,6,2], [0,4,0,1])).T\n",
    "T = np.vstack(([1,2,2,2], [0,0,1,2])).T\n",
    "\n",
    "print(v)\n",
    "print()\n",
    "print(S)\n",
    "print()\n",
    "print(T)"
   ]
  },
  {
   "cell_type": "code",
   "execution_count": 26,
   "id": "50b6cf43",
   "metadata": {},
   "outputs": [
    {
     "name": "stdout",
     "output_type": "stream",
     "text": [
      "The rank of S is 2\n",
      "The rank of T is 2\n"
     ]
    }
   ],
   "source": [
    "print(\"The rank of S is {}\".format(np.linalg.matrix_rank(S)))\n",
    "print(\"The rank of T is {}\".format(np.linalg.matrix_rank(T)))"
   ]
  },
  {
   "cell_type": "code",
   "execution_count": 27,
   "id": "bb43287e",
   "metadata": {},
   "outputs": [
    {
     "name": "stdout",
     "output_type": "stream",
     "text": [
      "[[4 0 1]\n",
      " [3 4 2]\n",
      " [6 0 3]\n",
      " [2 1 4]]\n",
      "\n",
      "[[1 0 1]\n",
      " [2 0 2]\n",
      " [2 1 3]\n",
      " [2 2 4]]\n"
     ]
    }
   ],
   "source": [
    "# Concatenate the vector to create an augmented matrix\n",
    "Sv = np.concatenate((S,v), axis = 1)\n",
    "Tv = np.concatenate((T,v), axis = 1)\n",
    "print(Sv)\n",
    "print()\n",
    "print(Tv)"
   ]
  },
  {
   "cell_type": "code",
   "execution_count": 28,
   "id": "1538c9bd",
   "metadata": {},
   "outputs": [
    {
     "name": "stdout",
     "output_type": "stream",
     "text": [
      "The rank of Sv is 3\n",
      "The rank of Tv is 2\n"
     ]
    }
   ],
   "source": [
    "print(\"The rank of Sv is {}\".format(np.linalg.matrix_rank(Sv)))\n",
    "print(\"The rank of Tv is {}\".format(np.linalg.matrix_rank(Tv)))"
   ]
  },
  {
   "cell_type": "markdown",
   "id": "679c2851",
   "metadata": {},
   "source": [
    "v is not in the span of set S but it is in the span of set T because for the former it increases the rank by 1 while in the later it doesnt change the rank."
   ]
  }
 ],
 "metadata": {
  "kernelspec": {
   "display_name": "Python 3 (ipykernel)",
   "language": "python",
   "name": "python3"
  },
  "language_info": {
   "codemirror_mode": {
    "name": "ipython",
    "version": 3
   },
   "file_extension": ".py",
   "mimetype": "text/x-python",
   "name": "python",
   "nbconvert_exporter": "python",
   "pygments_lexer": "ipython3",
   "version": "3.9.7"
  }
 },
 "nbformat": 4,
 "nbformat_minor": 5
}
