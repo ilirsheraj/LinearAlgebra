{
 "cells": [
  {
   "cell_type": "markdown",
   "id": "c999697e",
   "metadata": {},
   "source": [
    "## LS via Row Reduction"
   ]
  },
  {
   "cell_type": "code",
   "execution_count": 1,
   "id": "0830a4d2",
   "metadata": {},
   "outputs": [],
   "source": [
    "import numpy as np\n",
    "import matplotlib.pyplot as plt\n",
    "from sympy import *\n",
    "import scipy.io as sio"
   ]
  },
  {
   "cell_type": "code",
   "execution_count": 2,
   "id": "5cf6e8e3",
   "metadata": {},
   "outputs": [
    {
     "data": {
      "text/plain": [
       "(10, 1)"
      ]
     },
     "execution_count": 2,
     "metadata": {},
     "output_type": "execute_result"
    }
   ],
   "source": [
    "m = 10\n",
    "n = 3\n",
    "\n",
    "# Create the data\n",
    "X = np.random.randn(m,n) # design matrix\n",
    "y = np. random.randn(m,1) # outcome vector, give it orientation\n",
    "\n",
    "np.shape(y)"
   ]
  },
  {
   "cell_type": "code",
   "execution_count": 3,
   "id": "92082ade",
   "metadata": {},
   "outputs": [
    {
     "name": "stdout",
     "output_type": "stream",
     "text": [
      "(Matrix([\n",
      "[1, 0, 0, 0],\n",
      "[0, 1, 0, 0],\n",
      "[0, 0, 1, 0],\n",
      "[0, 0, 0, 1],\n",
      "[0, 0, 0, 0],\n",
      "[0, 0, 0, 0],\n",
      "[0, 0, 0, 0],\n",
      "[0, 0, 0, 0],\n",
      "[0, 0, 0, 0],\n",
      "[0, 0, 0, 0]]), (0, 1, 2, 3))\n"
     ]
    }
   ],
   "source": [
    "# Apply rref directly\n",
    "Xy = Matrix(np.concatenate([X,y],axis=1))\n",
    "print(Xy.rref())"
   ]
  },
  {
   "cell_type": "code",
   "execution_count": 4,
   "id": "f829711f",
   "metadata": {},
   "outputs": [
    {
     "data": {
      "text/latex": [
       "$\\displaystyle \\left[\\begin{matrix}13.6005723581276 & 2.27955040217146 & -1.61843247308141 & 2.82643337377223\\\\2.27955040217146 & 13.0573194064 & -0.86966198308264 & 4.18835067828672\\\\-1.61843247308141 & -0.86966198308264 & 7.58485678433588 & -0.225696199341826\\end{matrix}\\right]$"
      ],
      "text/plain": [
       "Matrix([\n",
       "[ 13.6005723581276,  2.27955040217146, -1.61843247308141,   2.82643337377223],\n",
       "[ 2.27955040217146,     13.0573194064, -0.86966198308264,   4.18835067828672],\n",
       "[-1.61843247308141, -0.86966198308264,  7.58485678433588, -0.225696199341826]])"
      ]
     },
     "execution_count": 4,
     "metadata": {},
     "output_type": "execute_result"
    }
   ],
   "source": [
    "# Apply normal equations\n",
    "XtX = X.T@X\n",
    "Xty = X.T@y\n",
    "\n",
    "# Augment them\n",
    "normEQ = Matrix(np.concatenate([XtX, Xty], axis=1))\n",
    "normEQ"
   ]
  },
  {
   "cell_type": "code",
   "execution_count": 5,
   "id": "9a385f0c",
   "metadata": {},
   "outputs": [
    {
     "name": "stdout",
     "output_type": "stream",
     "text": [
      "[[1 0 0 0.163012590334776]\n",
      " [0 1 0 0.294894520567050]\n",
      " [0 0 1 0.0388388643727611]]\n",
      "\n",
      "Matrix([[0.163012590334776], [0.294894520567050], [0.0388388643727611]])\n"
     ]
    }
   ],
   "source": [
    "Xsol = normEQ.rref()\n",
    "Xsol = Xsol[0]\n",
    "beta = Xsol[:,-1]\n",
    "\n",
    "print(np.array(Xsol))\n",
    "print()\n",
    "print(beta)\n",
    "# Identity matrix augmented to beta (see equations)"
   ]
  },
  {
   "cell_type": "code",
   "execution_count": 6,
   "id": "f4f9eb83",
   "metadata": {},
   "outputs": [
    {
     "name": "stdout",
     "output_type": "stream",
     "text": [
      "[[0.16301259]\n",
      " [0.29489452]\n",
      " [0.03883886]]\n"
     ]
    }
   ],
   "source": [
    "# Compare to left inverse\n",
    "beta2 = np.linalg.inv(XtX)@Xty\n",
    "print(beta2)"
   ]
  },
  {
   "cell_type": "code",
   "execution_count": 7,
   "id": "b4331964",
   "metadata": {},
   "outputs": [
    {
     "name": "stdout",
     "output_type": "stream",
     "text": [
      "[[0.16301259]\n",
      " [0.29489452]\n",
      " [0.03883886]]\n"
     ]
    }
   ],
   "source": [
    "# Use solver\n",
    "beta3 = np.linalg.solve(XtX,Xty)\n",
    "print(beta3)"
   ]
  },
  {
   "cell_type": "markdown",
   "id": "2cdacfd8",
   "metadata": {},
   "source": [
    "## Least-Squares Applications 1"
   ]
  },
  {
   "cell_type": "code",
   "execution_count": 8,
   "id": "2d703904",
   "metadata": {},
   "outputs": [
    {
     "data": {
      "text/plain": [
       "(8, 1)"
      ]
     },
     "execution_count": 8,
     "metadata": {},
     "output_type": "execute_result"
    }
   ],
   "source": [
    "# define the data vector\n",
    "data = np.array([[-4,0,-3,1,2,8,5,8]]).T\n",
    "N = len(data)\n",
    "data.shape"
   ]
  },
  {
   "cell_type": "code",
   "execution_count": 9,
   "id": "929cd740",
   "metadata": {},
   "outputs": [
    {
     "data": {
      "text/plain": [
       "(8, 1)"
      ]
     },
     "execution_count": 9,
     "metadata": {},
     "output_type": "execute_result"
    }
   ],
   "source": [
    "# define the design matrix\n",
    "X = np.ones([N,1])\n",
    "X.shape"
   ]
  },
  {
   "cell_type": "code",
   "execution_count": 10,
   "id": "a2e684a9",
   "metadata": {},
   "outputs": [
    {
     "data": {
      "text/plain": [
       "2.125"
      ]
     },
     "execution_count": 10,
     "metadata": {},
     "output_type": "execute_result"
    }
   ],
   "source": [
    "# Fit the model\n",
    "b = np.linalg.solve(X.T@X, X.T@data)\n",
    "b[0][0]"
   ]
  },
  {
   "cell_type": "code",
   "execution_count": 11,
   "id": "5fadded1",
   "metadata": {},
   "outputs": [
    {
     "name": "stdout",
     "output_type": "stream",
     "text": [
      "2.125\n"
     ]
    }
   ],
   "source": [
    "print(np.mean(data))"
   ]
  },
  {
   "cell_type": "code",
   "execution_count": 12,
   "id": "470eaf32",
   "metadata": {},
   "outputs": [
    {
     "data": {
      "text/plain": [
       "array([[2.125],\n",
       "       [2.125],\n",
       "       [2.125],\n",
       "       [2.125],\n",
       "       [2.125],\n",
       "       [2.125],\n",
       "       [2.125],\n",
       "       [2.125]])"
      ]
     },
     "execution_count": 12,
     "metadata": {},
     "output_type": "execute_result"
    }
   ],
   "source": [
    "# Compute model-predicted values\n",
    "yHat = X@b\n",
    "yHat"
   ]
  },
  {
   "cell_type": "code",
   "execution_count": 13,
   "id": "4f08b6e7",
   "metadata": {},
   "outputs": [
    {
     "data": {
      "image/png": "[encoded data removed]",
      "text/plain": [
       "<Figure size 432x288 with 1 Axes>"
      ]
     },
     "metadata": {
      "needs_background": "light"
     },
     "output_type": "display_data"
    }
   ],
   "source": [
    "plt.plot(np.arange(1, N+1), data, \"bs-\", label=\"Data\")\n",
    "plt.plot(np.arange(1, N+1), yHat, \"ro-\", label=\"Model Pred\")\n",
    "plt.legend()\n",
    "plt.show()"
   ]
  },
  {
   "cell_type": "code",
   "execution_count": 14,
   "id": "4663ad0f",
   "metadata": {},
   "outputs": [
    {
     "data": {
      "text/plain": [
       "array([[0],\n",
       "       [1],\n",
       "       [2],\n",
       "       [3],\n",
       "       [4],\n",
       "       [5],\n",
       "       [6],\n",
       "       [7]])"
      ]
     },
     "execution_count": 14,
     "metadata": {},
     "output_type": "execute_result"
    }
   ],
   "source": [
    "# Design new matrix with different values for x\n",
    "X = np.array([np.arange(0,N)]).T\n",
    "X"
   ]
  },
  {
   "cell_type": "code",
   "execution_count": 15,
   "id": "6bd14027",
   "metadata": {},
   "outputs": [
    {
     "data": {
      "text/plain": [
       "0.9357142857142857"
      ]
     },
     "execution_count": 15,
     "metadata": {},
     "output_type": "execute_result"
    }
   ],
   "source": [
    "# Fit the model\n",
    "b = np.linalg.solve(X.T@X, X.T@data)\n",
    "b[0][0]"
   ]
  },
  {
   "cell_type": "code",
   "execution_count": 16,
   "id": "9da97a71",
   "metadata": {},
   "outputs": [
    {
     "data": {
      "image/png": "[encoded data removed]",
      "text/plain": [
       "<Figure size 432x288 with 1 Axes>"
      ]
     },
     "metadata": {
      "needs_background": "light"
     },
     "output_type": "display_data"
    }
   ],
   "source": [
    "yHat = X@b\n",
    "plt.plot(np.arange(1, N+1), data, \"bs-\", label=\"Data\")\n",
    "plt.plot(np.arange(1, N+1), yHat, \"ro-\", label=\"Model Pred\")\n",
    "plt.legend()\n",
    "plt.show()"
   ]
  },
  {
   "cell_type": "code",
   "execution_count": 17,
   "id": "91cf4814",
   "metadata": {},
   "outputs": [
    {
     "data": {
      "text/plain": [
       "array([[1., 0.],\n",
       "       [1., 1.],\n",
       "       [1., 2.],\n",
       "       [1., 3.],\n",
       "       [1., 4.],\n",
       "       [1., 5.],\n",
       "       [1., 6.],\n",
       "       [1., 7.]])"
      ]
     },
     "execution_count": 17,
     "metadata": {},
     "output_type": "execute_result"
    }
   ],
   "source": [
    "# Introduce an Intercept\n",
    "X = np.concatenate([np.ones([N,1]), np.array([np.arange(0,N)]).T],axis=1)\n",
    "X"
   ]
  },
  {
   "cell_type": "code",
   "execution_count": 18,
   "id": "f6ee7993",
   "metadata": {},
   "outputs": [
    {
     "data": {
      "text/plain": [
       "-3.8333333333333344"
      ]
     },
     "execution_count": 18,
     "metadata": {},
     "output_type": "execute_result"
    }
   ],
   "source": [
    "# Fit the model\n",
    "b = np.linalg.solve(X.T@X, X.T@data)\n",
    "b[0][0]"
   ]
  },
  {
   "cell_type": "code",
   "execution_count": 19,
   "id": "26ae410a",
   "metadata": {},
   "outputs": [
    {
     "data": {
      "image/png": "[encoded data removed]",
      "text/plain": [
       "<Figure size 432x288 with 1 Axes>"
      ]
     },
     "metadata": {
      "needs_background": "light"
     },
     "output_type": "display_data"
    }
   ],
   "source": [
    "yHat = X@b\n",
    "plt.plot(np.arange(1, N+1), data, \"bs-\", label=\"Data\")\n",
    "plt.plot(np.arange(1, N+1), yHat, \"ro-\", label=\"Model Pred\")\n",
    "plt.legend()\n",
    "plt.show()"
   ]
  },
  {
   "cell_type": "code",
   "execution_count": 20,
   "id": "3d514730",
   "metadata": {},
   "outputs": [
    {
     "data": {
      "text/plain": [
       "array([[ 1.,  0.],\n",
       "       [ 1.,  1.],\n",
       "       [ 1.,  4.],\n",
       "       [ 1.,  9.],\n",
       "       [ 1., 16.],\n",
       "       [ 1., 25.],\n",
       "       [ 1., 36.],\n",
       "       [ 1., 49.]])"
      ]
     },
     "execution_count": 20,
     "metadata": {},
     "output_type": "execute_result"
    }
   ],
   "source": [
    "# Introduce non-linearity\n",
    "X = np.concatenate([np.ones([N,1]), np.array([np.arange(0,N)**2]).T],axis=1)\n",
    "X"
   ]
  },
  {
   "cell_type": "code",
   "execution_count": 21,
   "id": "8f0f7381",
   "metadata": {},
   "outputs": [
    {
     "data": {
      "text/plain": [
       "-1.8333333333333335"
      ]
     },
     "execution_count": 21,
     "metadata": {},
     "output_type": "execute_result"
    }
   ],
   "source": [
    "b = np.linalg.solve(X.T@X, X.T@data)\n",
    "b[0][0]"
   ]
  },
  {
   "cell_type": "code",
   "execution_count": 22,
   "id": "0a2f2028",
   "metadata": {},
   "outputs": [
    {
     "data": {
      "image/png": "[encoded data removed]",
      "text/plain": [
       "<Figure size 432x288 with 1 Axes>"
      ]
     },
     "metadata": {
      "needs_background": "light"
     },
     "output_type": "display_data"
    }
   ],
   "source": [
    "yHat = X@b\n",
    "plt.plot(np.arange(1, N+1), data, \"bs-\", label=\"Data\")\n",
    "plt.plot(np.arange(1, N+1), yHat, \"ro-\", label=\"Model Pred\")\n",
    "plt.legend()\n",
    "plt.show()"
   ]
  },
  {
   "cell_type": "markdown",
   "id": "c3487cb3",
   "metadata": {},
   "source": [
    "## Least-Square Applications 2"
   ]
  },
  {
   "cell_type": "code",
   "execution_count": 23,
   "id": "d913a57d",
   "metadata": {},
   "outputs": [],
   "source": [
    "# Load the matlab data\n",
    "data = sio.loadmat(\"EEG_RT_data.mat\")\n",
    "rts = data[\"rts\"]\n",
    "rts = rts[0]\n",
    "EEGdata = data[\"EEGdata\"]\n",
    "frex = data[\"frex\"]\n",
    "frex = frex[0]\n",
    "\n",
    "nTrials = len(rts)\n",
    "nFrex = len(frex)"
   ]
  },
  {
   "cell_type": "code",
   "execution_count": 24,
   "id": "ba84413b",
   "metadata": {},
   "outputs": [
    {
     "data": {
      "image/png": "[encoded data removed]",
      "text/plain": [
       "<Figure size 432x288 with 1 Axes>"
      ]
     },
     "metadata": {
      "needs_background": "light"
     },
     "output_type": "display_data"
    }
   ],
   "source": [
    "plt.plot(rts, \"ks-\")\n",
    "plt.xlabel(\"Trial\")\n",
    "plt.ylabel(\"Time (ms)\")\n",
    "plt.show()"
   ]
  },
  {
   "cell_type": "code",
   "execution_count": 25,
   "id": "82a50d87",
   "metadata": {},
   "outputs": [
    {
     "data": {
      "image/png": "[encoded data removed]",
      "text/plain": [
       "<Figure size 432x288 with 1 Axes>"
      ]
     },
     "metadata": {
      "needs_background": "light"
     },
     "output_type": "display_data"
    }
   ],
   "source": [
    "plt.imshow(EEGdata, origin=\"lower\", aspect=\"auto\")\n",
    "plt.xlabel(\"Trial\")\n",
    "plt.ylabel(\"Frequency\")\n",
    "plt.show()"
   ]
  },
  {
   "cell_type": "code",
   "execution_count": 26,
   "id": "a4ac696a",
   "metadata": {},
   "outputs": [
    {
     "name": "stdout",
     "output_type": "stream",
     "text": [
      "[ 4.02435056e+02  2.25627111e-01 -2.33132473e+01]\n",
      "\n",
      "[ 4.02435056e+02  2.25627111e-01 -2.33132473e+01]\n"
     ]
    }
   ],
   "source": [
    "# Create a design model and fit it for one frequency only\n",
    "X = np.concatenate([np.ones([nTrials-1,1]), # intercept\n",
    "                    np.reshape(rts[0:-1], (nTrials-1,1)), # RTs\n",
    "                    np.reshape(EEGdata[10,:-1], (nTrials-1,1))], #Brain\n",
    "                  axis=1)\n",
    "#X\n",
    "b1 = np.linalg.solve(X.T@X, X.T@rts[1:])\n",
    "b2 = np.linalg.lstsq(X,rts[1:],rcond=None)[0] # Another way\n",
    "print(b1)\n",
    "print()\n",
    "print(b2)"
   ]
  },
  {
   "cell_type": "code",
   "execution_count": 27,
   "id": "38b6c7bd",
   "metadata": {},
   "outputs": [
    {
     "data": {
      "image/png": "[encoded data removed]",
      "text/plain": [
       "<Figure size 576x576 with 3 Axes>"
      ]
     },
     "metadata": {
      "needs_background": "light"
     },
     "output_type": "display_data"
    }
   ],
   "source": [
    "# Initialize the bea coefficient vector after dropping previous rxn time\n",
    "b = np.zeros(len(frex))\n",
    "\n",
    "# loop over frequencies\n",
    "for fi in np.arange(0,len(frex)):\n",
    "    \n",
    "    # Design Matrix\n",
    "    X = np.concatenate([np.ones([nTrials,1]),\n",
    "                        np.reshape(EEGdata[fi,:], (nTrials,1))],\n",
    "                       axis=1)\n",
    "    \n",
    "    # Compute parameters\n",
    "    t = np.linalg.lstsq(X, rts, rcond=None)[0]\n",
    "    b[fi] = t[1]\n",
    "    \n",
    "plt.figure(figsize=(8,8))\n",
    "plt.subplot(211)\n",
    "plt.plot(frex,b,\"rs-\")\n",
    "plt.xlabel(\"Frequency (Hz)\")\n",
    "plt.ylabel(\"beta coefficient\")\n",
    "\n",
    "plt.subplot(223)\n",
    "plt.plot(EEGdata[8,:],rts,\"ks\")\n",
    "plt.xlabel(\"EEG Energy\")\n",
    "plt.ylabel(\"Reaction Time (ms)\")\n",
    "\n",
    "plt.subplot(224)\n",
    "plt.plot(EEGdata[23,:],rts,\"ks\")\n",
    "plt.xlabel(\"EEG Energy\")\n",
    "plt.ylabel(\"Reaction Time (ms)\")\n",
    "plt.show()"
   ]
  },
  {
   "cell_type": "markdown",
   "id": "17fffc17",
   "metadata": {},
   "source": [
    "## Code Challenge: LS via QR Decomposition "
   ]
  },
  {
   "cell_type": "code",
   "execution_count": 28,
   "id": "6c56ccc3",
   "metadata": {},
   "outputs": [
    {
     "name": "stdout",
     "output_type": "stream",
     "text": [
      "[[0.60098734]\n",
      " [0.08491559]\n",
      " [0.397264  ]]\n",
      "\n",
      "[[0.60098734]\n",
      " [0.08491559]\n",
      " [0.397264  ]]\n",
      "\n",
      "[[0.60098734]\n",
      " [0.08491559]\n",
      " [0.397264  ]]\n"
     ]
    }
   ],
   "source": [
    "# generate random data\n",
    "m = 10\n",
    "n = 3\n",
    "\n",
    "# Dsign Matrix\n",
    "X = np.random.randn(m,n)\n",
    "y = np.random.randn(m,1)\n",
    "\n",
    "# QR Decomposition\n",
    "Q,R = np.linalg.qr(X)\n",
    "\n",
    "beta = np.linalg.solve(R.T@R, (Q@R).T@y)\n",
    "\n",
    "# standard left-inverse methods\n",
    "beta2 = np.linalg.solve(X.T@X,X.T@y)\n",
    "\n",
    "beta3 = np.linalg.lstsq(X,y,rcond=None)[0]\n",
    "\n",
    "print(beta)\n",
    "print()\n",
    "print(beta2)\n",
    "print()\n",
    "print(beta3)"
   ]
  }
 ],
 "metadata": {
  "kernelspec": {
   "display_name": "Python 3 (ipykernel)",
   "language": "python",
   "name": "python3"
  },
  "language_info": {
   "codemirror_mode": {
    "name": "ipython",
    "version": 3
   },
   "file_extension": ".py",
   "mimetype": "text/x-python",
   "name": "python",
   "nbconvert_exporter": "python",
   "pygments_lexer": "ipython3",
   "version": "3.9.7"
  }
 },
 "nbformat": 4,
 "nbformat_minor": 5
}
